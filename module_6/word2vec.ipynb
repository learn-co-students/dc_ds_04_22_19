{
 "cells": [
  {
   "cell_type": "code",
   "execution_count": 62,
   "metadata": {},
   "outputs": [],
   "source": [
    "import numpy as np"
   ]
  },
  {
   "cell_type": "markdown",
   "metadata": {},
   "source": [
    "### Word embeddings"
   ]
  },
  {
   "cell_type": "markdown",
   "metadata": {},
   "source": [
    "#### Problem:\n",
    "#### There are too many words - converting them to one-hot encoding seems crazy.\n",
    "#### Also, using tf-idf or bag of words disregards the relation between similar/disimilar words (cat and dog are \n",
    "#### more realted than cat and train)\n"
   ]
  },
  {
   "cell_type": "markdown",
   "metadata": {},
   "source": [
    "##### Idea :\n",
    "##### For each word map a randomly initialized vector sized 100/200/300. \n",
    "##### Then train a neural network to update these vectors till they are meaningful. "
   ]
  },
  {
   "cell_type": "markdown",
   "metadata": {},
   "source": [
    "##### What was the solution/s before?"
   ]
  },
  {
   "cell_type": "markdown",
   "metadata": {},
   "source": [
    "#### N-gram"
   ]
  },
  {
   "cell_type": "markdown",
   "metadata": {},
   "source": [
    "-Which word produces the highest probability to be next given we have seen n specific other words before"
   ]
  },
  {
   "cell_type": "markdown",
   "metadata": {},
   "source": [
    "Words: Thank, you, Hello, goodbye"
   ]
  },
  {
   "cell_type": "markdown",
   "metadata": {},
   "source": [
    "If we have 4 words and we are looking at 2-gram? \n",
    "    Example: no. of times Thank you occurs divided by number of times Thank occurs"
   ]
  },
  {
   "cell_type": "markdown",
   "metadata": {},
   "source": [
    "We need to calculate the probabilty of \n",
    " - Thank Hello\n",
    " - Thank you\n",
    " - Thank goodbye\n",
    " - Thank Thank"
   ]
  },
  {
   "cell_type": "markdown",
   "metadata": {},
   "source": [
    "So we needed to do 4 calculations"
   ]
  },
  {
   "cell_type": "code",
   "execution_count": 63,
   "metadata": {},
   "outputs": [],
   "source": [
    "def how_many_calc_to_do(gram, voc_size):\n",
    "    '''This function needs to calculate all combos \n",
    "    of words'''\n",
    "    \n",
    "    return np.prod(np.repeat(voc_size, gram))"
   ]
  },
  {
   "cell_type": "code",
   "execution_count": 64,
   "metadata": {},
   "outputs": [
    {
     "data": {
      "text/plain": [
       "4477988020393345024"
      ]
     },
     "execution_count": 64,
     "metadata": {},
     "output_type": "execute_result"
    }
   ],
   "source": [
    "how_many_calc_to_do(7, 10000)\n",
    "#### Notice that this is only an approxiamtion and it can be implemented in more efficient ways."
   ]
  },
  {
   "cell_type": "markdown",
   "metadata": {},
   "source": [
    "![](./img/one_hot_encoding_distance_on_3d.png)"
   ]
  },
  {
   "cell_type": "markdown",
   "metadata": {},
   "source": [
    "#### Insight I: \n",
    "    we can actually just turn each word to a random vector sized 100/200/300, \n",
    "    train a classic neural net to predict the next word and update both the weights and the random vectors.\n",
    "    You can think of it as just another layer of weights multiplying the one hot encoded inputs.\n",
    "<a href=\"http://hunterheidenreich.com/blog/intro-to-word-embeddings/\">word_embed blog</a>\n",
    "\n",
    "<a href=\"https://towardsdatascience.com/introduction-to-word-embedding-and-word2vec-652d0c2060fa\">word_embed blog II</a>"
   ]
  },
  {
   "cell_type": "markdown",
   "metadata": {},
   "source": [
    "![W2V](./img/w2v.png)"
   ]
  },
  {
   "cell_type": "markdown",
   "metadata": {},
   "source": [
    "##### Objective: maximize the sum of probabilities of each word given its observed window"
   ]
  },
  {
   "cell_type": "markdown",
   "metadata": {},
   "source": [
    "This idea is very strong in comparison to other options: \n",
    "\n",
    "    Bag of words - just count occourences \n",
    "    TF-IDF - word is either informative or not but has no relation to other words\n",
    "    one-hot encoder: for the computer paris-france is the same distance as paris-blabla"
   ]
  },
  {
   "cell_type": "markdown",
   "metadata": {},
   "source": [
    "- Distance and direction are meaningful! King - man = Queen - woman\n",
    "- Now the words massive and huge are similar!\n",
    "- Extends to sentences, paragraphs and documents."
   ]
  },
  {
   "cell_type": "markdown",
   "metadata": {},
   "source": [
    "![](./img/see_attached_word_embed.png)"
   ]
  },
  {
   "cell_type": "markdown",
   "metadata": {},
   "source": [
    "##### We have reduced the dimension of the vocublary by a big factor!\n",
    "example: from 80,000 to 300"
   ]
  },
  {
   "cell_type": "markdown",
   "metadata": {},
   "source": [
    "![](https://lemay-images.nyc3.cdn.digitaloceanspaces.com/job_postings_embedding.gif)"
   ]
  },
  {
   "cell_type": "markdown",
   "metadata": {},
   "source": [
    "##### Insight I.I  The same thing can be applied to any categorical variable. \n",
    "##### With enough training data we can learn its continous position in space - state of the art"
   ]
  },
  {
   "cell_type": "markdown",
   "metadata": {},
   "source": [
    "![categorical_embed](./img/categorical_embedding.png) # image I"
   ]
  },
  {
   "cell_type": "markdown",
   "metadata": {},
   "source": [
    "<a href=\"https://arxiv.org/pdf/1604.06737.pdf/\">source paper - entity embeddings/a>\n",
    "entity embedding paper: "
   ]
  },
  {
   "cell_type": "markdown",
   "metadata": {},
   "source": [
    "![german_states](./img/german_states_mapped_2D.png) "
   ]
  },
  {
   "cell_type": "markdown",
   "metadata": {},
   "source": [
    "### Takeaways:"
   ]
  },
  {
   "cell_type": "markdown",
   "metadata": {},
   "source": [
    "##### Word embeddings\n",
    "- Word/categorical embeddings gives meaning to words in relation to one another\n",
    "- Word/categorical embeddings are computationally efficient\n",
    "- Training is done through a classic NN with small window around words"
   ]
  },
  {
   "cell_type": "markdown",
   "metadata": {},
   "source": [
    "### Hands on Word2Vec/word embedding"
   ]
  },
  {
   "cell_type": "markdown",
   "metadata": {},
   "source": [
    "How can we train w2v?\n",
    "1. Use gensim to do the training for you\n",
    "2. Build your own w2v using keras\n",
    "3. Use transfer learning "
   ]
  },
  {
   "cell_type": "markdown",
   "metadata": {},
   "source": [
    "#### 1. Using gensim"
   ]
  },
  {
   "cell_type": "markdown",
   "metadata": {},
   "source": [
    "!pip install gensim"
   ]
  },
  {
   "cell_type": "code",
   "execution_count": 65,
   "metadata": {},
   "outputs": [],
   "source": [
    "import gensim\n",
    "import numpy as np\n",
    "import json\n",
    "import string"
   ]
  },
  {
   "cell_type": "code",
   "execution_count": 66,
   "metadata": {},
   "outputs": [],
   "source": [
    "##### Reading in the data"
   ]
  },
  {
   "cell_type": "code",
   "execution_count": 67,
   "metadata": {},
   "outputs": [],
   "source": [
    "with open('JEOPARDY_QUESTIONS1.json') as f:\n",
    "    data = json.load(f)"
   ]
  },
  {
   "cell_type": "code",
   "execution_count": 68,
   "metadata": {},
   "outputs": [
    {
     "data": {
      "text/plain": [
       "{'category': 'HISTORY',\n",
       " 'air_date': '2004-12-31',\n",
       " 'question': \"'For the last 8 years of his life, Galileo was under house arrest for espousing this man's theory'\",\n",
       " 'value': '$200',\n",
       " 'answer': 'Copernicus',\n",
       " 'round': 'Jeopardy!',\n",
       " 'show_number': '4680'}"
      ]
     },
     "execution_count": 68,
     "metadata": {},
     "output_type": "execute_result"
    }
   ],
   "source": [
    "# Let's look at the first element in our list\n",
    "data[0]"
   ]
  },
  {
   "cell_type": "code",
   "execution_count": 69,
   "metadata": {},
   "outputs": [],
   "source": [
    "# Word2Vec requires that our text have the form of a list\n",
    "# of 'sentences', where each sentence is itself a list of\n",
    "# words. How can we put our _Jeopardy!_ clues in that shape?\n",
    "\n",
    "text = []\n",
    "\n",
    "for clue in data:\n",
    "    sentence = clue['question'].translate(str.maketrans('', '',\n",
    "                                                        string.punctuation)).split(' ')\n",
    "    \n",
    "    new_sent = []\n",
    "    for word in sentence:\n",
    "        new_sent.append(word.lower())\n",
    "    \n",
    "    text.append(new_sent)"
   ]
  },
  {
   "cell_type": "code",
   "execution_count": 70,
   "metadata": {},
   "outputs": [
    {
     "data": {
      "text/plain": [
       "['for',\n",
       " 'the',\n",
       " 'last',\n",
       " '8',\n",
       " 'years',\n",
       " 'of',\n",
       " 'his',\n",
       " 'life',\n",
       " 'galileo',\n",
       " 'was',\n",
       " 'under',\n",
       " 'house',\n",
       " 'arrest',\n",
       " 'for',\n",
       " 'espousing',\n",
       " 'this',\n",
       " 'mans',\n",
       " 'theory']"
      ]
     },
     "execution_count": 70,
     "metadata": {},
     "output_type": "execute_result"
    }
   ],
   "source": [
    "# Let's check the new structure of our first clue\n",
    "text[0]"
   ]
  },
  {
   "cell_type": "markdown",
   "metadata": {},
   "source": [
    "#####  Constructing the model"
   ]
  },
  {
   "cell_type": "code",
   "execution_count": 71,
   "metadata": {},
   "outputs": [],
   "source": [
    "# simply a matter of\n",
    "# instantiating a Word2Vec object.\n",
    "model = gensim.models.Word2Vec(text, sg=1)\n",
    "## sg means skip-gram this is a flavour of the word2vec algo. "
   ]
  },
  {
   "cell_type": "markdown",
   "metadata": {},
   "source": [
    "##### training "
   ]
  },
  {
   "cell_type": "code",
   "execution_count": 72,
   "metadata": {},
   "outputs": [
    {
     "name": "stderr",
     "output_type": "stream",
     "text": [
      "W0905 21:50:57.763874 4685043136 base_any2vec.py:1182] Effective 'alpha' higher than previous training cycles\n"
     ]
    },
    {
     "data": {
      "text/plain": [
       "(11336478, 15849970)"
      ]
     },
     "execution_count": 72,
     "metadata": {},
     "output_type": "execute_result"
    }
   ],
   "source": [
    "# To train, call 'train()'!\n",
    "model.train(text, total_examples=model.corpus_count, epochs=model.epochs)"
   ]
  },
  {
   "cell_type": "markdown",
   "metadata": {},
   "source": [
    "##### Let's explore our results "
   ]
  },
  {
   "cell_type": "code",
   "execution_count": 73,
   "metadata": {},
   "outputs": [
    {
     "data": {
      "text/plain": [
       "[('ignorance', 0.7723346948623657),\n",
       " ('shakespearebr', 0.7453909516334534),\n",
       " ('prosperity', 0.73906409740448),\n",
       " ('shame', 0.7375794649124146),\n",
       " ('wherefore', 0.7300489544868469),\n",
       " ('kindness', 0.7293806076049805),\n",
       " ('despair', 0.7275824546813965),\n",
       " ('vigor', 0.7242348194122314),\n",
       " ('hatred', 0.7181109189987183),\n",
       " ('autumns', 0.7149204015731812)]"
      ]
     },
     "execution_count": 73,
     "metadata": {},
     "output_type": "execute_result"
    }
   ],
   "source": [
    "model.wv.most_similar('happiness')"
   ]
  },
  {
   "cell_type": "code",
   "execution_count": 74,
   "metadata": {},
   "outputs": [
    {
     "data": {
      "text/plain": [
       "0.61292565"
      ]
     },
     "execution_count": 74,
     "metadata": {},
     "output_type": "execute_result"
    }
   ],
   "source": [
    "model.wv.similarity('furniture', 'jewelry')"
   ]
  },
  {
   "cell_type": "code",
   "execution_count": 75,
   "metadata": {},
   "outputs": [
    {
     "data": {
      "text/plain": [
       "[('emperors', 0.24791167676448822),\n",
       " ('dictator', 0.22046294808387756),\n",
       " ('destroyed', 0.1994936764240265),\n",
       " ('regime', 0.19767695665359497),\n",
       " ('exiled', 0.19326935708522797),\n",
       " ('stalin', 0.19325149059295654),\n",
       " ('emperor', 0.19045278429985046),\n",
       " ('headlines', 0.18985213339328766),\n",
       " ('mecca', 0.18638044595718384),\n",
       " ('coup', 0.1814723014831543)]"
      ]
     },
     "execution_count": 75,
     "metadata": {},
     "output_type": "execute_result"
    }
   ],
   "source": [
    "model.wv.most_similar(positive=['president', 'germany'], negative='usa')"
   ]
  },
  {
   "cell_type": "code",
   "execution_count": 76,
   "metadata": {},
   "outputs": [
    {
     "name": "stderr",
     "output_type": "stream",
     "text": [
      "/Users/omer/anaconda3/lib/python3.7/site-packages/gensim/models/keyedvectors.py:877: FutureWarning: arrays to stack must be passed as a \"sequence\" type such as list or tuple. Support for non-sequence iterables such as generators is deprecated as of NumPy 1.16 and will raise an error in the future.\n",
      "  vectors = vstack(self.word_vec(word, use_norm=True) for word in used_words).astype(REAL)\n"
     ]
    },
    {
     "data": {
      "text/plain": [
       "'frog'"
      ]
     },
     "execution_count": 76,
     "metadata": {},
     "output_type": "execute_result"
    }
   ],
   "source": [
    "model.wv.doesnt_match(['breakfast', 'lunch', 'frog', 'food'])"
   ]
  },
  {
   "cell_type": "markdown",
   "metadata": {},
   "source": [
    "#### 2. using keras"
   ]
  },
  {
   "cell_type": "code",
   "execution_count": 77,
   "metadata": {},
   "outputs": [],
   "source": [
    "from keras.layers import Embedding\n",
    "import codecs\n",
    "from keras.preprocessing.text import Tokenizer\n",
    "from keras.preprocessing.sequence import pad_sequences\n",
    "from keras.models import Sequential"
   ]
  },
  {
   "cell_type": "markdown",
   "metadata": {},
   "source": [
    "##### For your help: \n",
    "#####    a nice  function for text cleaning "
   ]
  },
  {
   "cell_type": "code",
   "execution_count": 78,
   "metadata": {},
   "outputs": [
    {
     "name": "stdout",
     "output_type": "stream",
     "text": [
      "Processing text dataset\n"
     ]
    }
   ],
   "source": [
    "########################################\n",
    "## process texts in datasets\n",
    "########################################\n",
    "print('Processing text dataset')\n",
    "\n",
    "# The function \"text_to_wordlist\" is from\n",
    "# https://www.kaggle.com/currie32/quora-question-pairs/the-importance-of-cleaning-text\n",
    "def text_to_wordlist(text, remove_stopwords=False, stem_words=False):\n",
    "    # Clean the text, with the option to remove stopwords and to stem words.\n",
    "    \n",
    "    # Convert words to lower case and split them\n",
    "    text = text.lower().split()\n",
    "\n",
    "    # Optionally, remove stop words\n",
    "    if remove_stopwords:\n",
    "        stops = set(stopwords.words(\"english\"))\n",
    "        text = [w for w in text if not w in stops]\n",
    "    \n",
    "    text = \" \".join(text)\n",
    "\n",
    "    # Clean the text\n",
    "    text = re.sub(r\"[^A-Za-z0-9^,!.\\/'+-=]\", \" \", text)\n",
    "    text = re.sub(r\"what's\", \"what is \", text)\n",
    "    text = re.sub(r\"\\'s\", \" \", text)\n",
    "    text = re.sub(r\"\\'ve\", \" have \", text)\n",
    "    text = re.sub(r\"can't\", \"cannot \", text)\n",
    "    text = re.sub(r\"n't\", \" not \", text)\n",
    "    text = re.sub(r\"i'm\", \"i am \", text)\n",
    "    text = re.sub(r\"\\'re\", \" are \", text)\n",
    "    text = re.sub(r\"\\'d\", \" would \", text)\n",
    "    text = re.sub(r\"\\'ll\", \" will \", text)\n",
    "    text = re.sub(r\",\", \" \", text)\n",
    "    text = re.sub(r\"\\.\", \" \", text)\n",
    "    text = re.sub(r\"!\", \" ! \", text)\n",
    "    text = re.sub(r\"\\/\", \" \", text)\n",
    "    text = re.sub(r\"\\^\", \" ^ \", text)\n",
    "    text = re.sub(r\"\\+\", \" + \", text)\n",
    "    text = re.sub(r\"\\-\", \" - \", text)\n",
    "    text = re.sub(r\"\\=\", \" = \", text)\n",
    "    text = re.sub(r\"'\", \" \", text)\n",
    "    text = re.sub(r\"(\\d+)(k)\", r\"\\g<1>000\", text)\n",
    "    text = re.sub(r\":\", \" : \", text)\n",
    "    text = re.sub(r\" e g \", \" eg \", text)\n",
    "    text = re.sub(r\" b g \", \" bg \", text)\n",
    "    text = re.sub(r\" u s \", \" american \", text)\n",
    "    text = re.sub(r\"\\0s\", \"0\", text)\n",
    "    text = re.sub(r\" 9 11 \", \"911\", text)\n",
    "    text = re.sub(r\"e - mail\", \"email\", text)\n",
    "    text = re.sub(r\"j k\", \"jk\", text)\n",
    "    text = re.sub(r\"\\s{2,}\", \" \", text)\n",
    "    \n",
    "    # Optionally, shorten words to their stems\n",
    "    if stem_words:\n",
    "        text = text.split()\n",
    "        stemmer = SnowballStemmer('english')\n",
    "        stemmed_words = [stemmer.stem(word) for word in text]\n",
    "        text = \" \".join(stemmed_words)\n",
    "    \n",
    "    # Return a list of words\n",
    "    return(text)"
   ]
  },
  {
   "cell_type": "code",
   "execution_count": 79,
   "metadata": {},
   "outputs": [],
   "source": [
    "MAX_VOC_WORDS = 200000\n",
    "MAX_SEQUENCE_LENGTH = 50"
   ]
  },
  {
   "cell_type": "code",
   "execution_count": 80,
   "metadata": {},
   "outputs": [],
   "source": [
    "tokenizer = Tokenizer(num_words=MAX_VOC_WORDS)\n",
    "tokenizer.fit_on_texts(texts_1[1:5])"
   ]
  },
  {
   "cell_type": "code",
   "execution_count": 81,
   "metadata": {},
   "outputs": [],
   "source": [
    "sequences_1 = tokenizer.texts_to_sequences(texts_1[1:5])"
   ]
  },
  {
   "cell_type": "code",
   "execution_count": 82,
   "metadata": {},
   "outputs": [
    {
     "name": "stdout",
     "output_type": "stream",
     "text": [
      "Shape of data tensor: (0, 50)\n",
      "Shape of label tensor: (0,)\n"
     ]
    }
   ],
   "source": [
    "### Notice that sequences are of varying lengths. How would we use them in a model??\n",
    "### solution: padding \n",
    "data_1 = pad_sequences(sequences_1, maxlen=MAX_SEQUENCE_LENGTH, padding='post')\n",
    "labels = np.array(labels)\n",
    "print('Shape of data tensor:', data_1.shape)\n",
    "print('Shape of label tensor:', labels[1:5].shape)"
   ]
  },
  {
   "cell_type": "code",
   "execution_count": 83,
   "metadata": {},
   "outputs": [],
   "source": [
    "### Input to the model will be list of lists. Each list will be the index of the words in that sentence."
   ]
  },
  {
   "cell_type": "code",
   "execution_count": 84,
   "metadata": {},
   "outputs": [],
   "source": [
    "model = Sequential()\n",
    "model.add(Embedding(1000, 64, input_length=10))"
   ]
  },
  {
   "cell_type": "markdown",
   "metadata": {},
   "source": [
    "#### 3. Transfer learning "
   ]
  },
  {
   "cell_type": "markdown",
   "metadata": {},
   "source": [
    "Download before lecture:\n",
    "\n",
    "!brew install wget\n",
    "!wget -c “https://s3.amazonaws.com/dl4j-distribution/GoogleNews-vectors-negative300.bin.gz”"
   ]
  },
  {
   "cell_type": "code",
   "execution_count": 85,
   "metadata": {},
   "outputs": [],
   "source": [
    "from gensim.models import KeyedVectors"
   ]
  },
  {
   "cell_type": "code",
   "execution_count": 86,
   "metadata": {},
   "outputs": [],
   "source": [
    "nb_words  = 3000000 \n",
    "MAX_SEQUENCE_LENGTH = 15\n",
    "EMBEDDING_DIM = 300"
   ]
  },
  {
   "cell_type": "code",
   "execution_count": 87,
   "metadata": {},
   "outputs": [],
   "source": [
    "########################################\n",
    "## set directories and parameters\n",
    "########################################\n",
    "BASE_DIR = './'\n",
    "EMBEDDING_FILE = '/Users/omer/Documents/RNN_ex/GoogleNews-vectors-negative300.bin'"
   ]
  },
  {
   "cell_type": "code",
   "execution_count": 88,
   "metadata": {},
   "outputs": [
    {
     "name": "stdout",
     "output_type": "stream",
     "text": [
      "Indexing word vectors\n",
      "Found 3000000 word vectors of word2vec\n"
     ]
    }
   ],
   "source": [
    "########################################\n",
    "## read pre-trained word vectors\n",
    "########################################\n",
    "print('Indexing word vectors')\n",
    "word2vec = KeyedVectors.load_word2vec_format(EMBEDDING_FILE, \\\n",
    "        binary=True)\n",
    "print('Found %s word vectors of word2vec' % len(word2vec.vocab))"
   ]
  },
  {
   "cell_type": "code",
   "execution_count": 89,
   "metadata": {
    "collapsed": true
   },
   "outputs": [
    {
     "data": {
      "text/plain": [
       "{'</s>': <gensim.models.keyedvectors.Vocab at 0x1a35b1b518>,\n",
       " 'in': <gensim.models.keyedvectors.Vocab at 0x1a35b1b4a8>,\n",
       " 'for': <gensim.models.keyedvectors.Vocab at 0x1a35b1b668>,\n",
       " 'that': <gensim.models.keyedvectors.Vocab at 0x1a570c3518>,\n",
       " 'is': <gensim.models.keyedvectors.Vocab at 0x1a35b1b710>,\n",
       " 'on': <gensim.models.keyedvectors.Vocab at 0x1a35b1b7b8>,\n",
       " '##': <gensim.models.keyedvectors.Vocab at 0x1a35b1b828>,\n",
       " 'The': <gensim.models.keyedvectors.Vocab at 0x1a35b1b898>,\n",
       " 'with': <gensim.models.keyedvectors.Vocab at 0x1a35b1b908>,\n",
       " 'said': <gensim.models.keyedvectors.Vocab at 0x1a35b1b978>,\n",
       " 'was': <gensim.models.keyedvectors.Vocab at 0x1a35b1b9e8>,\n",
       " 'the': <gensim.models.keyedvectors.Vocab at 0x1a35b1ba58>,\n",
       " 'at': <gensim.models.keyedvectors.Vocab at 0x1a35b1bac8>,\n",
       " 'not': <gensim.models.keyedvectors.Vocab at 0x1a35b1bb38>,\n",
       " 'as': <gensim.models.keyedvectors.Vocab at 0x1a35b1bba8>,\n",
       " 'it': <gensim.models.keyedvectors.Vocab at 0x1a35b1bc18>,\n",
       " 'be': <gensim.models.keyedvectors.Vocab at 0x1a35b1bc88>,\n",
       " 'from': <gensim.models.keyedvectors.Vocab at 0x1a35b1bcf8>,\n",
       " 'by': <gensim.models.keyedvectors.Vocab at 0x1a35b1bd68>,\n",
       " 'are': <gensim.models.keyedvectors.Vocab at 0x1a35b1bdd8>,\n",
       " 'I': <gensim.models.keyedvectors.Vocab at 0x1a35b1be10>,\n",
       " 'have': <gensim.models.keyedvectors.Vocab at 0x1a35b1be80>,\n",
       " 'he': <gensim.models.keyedvectors.Vocab at 0x1a35b1bef0>,\n",
       " 'will': <gensim.models.keyedvectors.Vocab at 0x1a35b1bf60>,\n",
       " 'has': <gensim.models.keyedvectors.Vocab at 0x1a35b1bfd0>,\n",
       " '####': <gensim.models.keyedvectors.Vocab at 0x1a35b2a080>,\n",
       " 'his': <gensim.models.keyedvectors.Vocab at 0x1a35b2a0f0>,\n",
       " 'an': <gensim.models.keyedvectors.Vocab at 0x1a35b2a160>,\n",
       " 'this': <gensim.models.keyedvectors.Vocab at 0x1a35b2a1d0>,\n",
       " 'or': <gensim.models.keyedvectors.Vocab at 0x1a35b2a240>,\n",
       " 'their': <gensim.models.keyedvectors.Vocab at 0x1a35b2a2b0>,\n",
       " 'who': <gensim.models.keyedvectors.Vocab at 0x1a35b2a320>,\n",
       " 'they': <gensim.models.keyedvectors.Vocab at 0x1a35b2a390>,\n",
       " 'but': <gensim.models.keyedvectors.Vocab at 0x1a35b2a400>,\n",
       " '$': <gensim.models.keyedvectors.Vocab at 0x1a35b2a438>,\n",
       " 'had': <gensim.models.keyedvectors.Vocab at 0x1a35b2a4a8>,\n",
       " 'year': <gensim.models.keyedvectors.Vocab at 0x1a35b2a518>,\n",
       " 'were': <gensim.models.keyedvectors.Vocab at 0x1a35b2a588>,\n",
       " 'we': <gensim.models.keyedvectors.Vocab at 0x1a35b2a5f8>,\n",
       " 'more': <gensim.models.keyedvectors.Vocab at 0x1a35b2a668>,\n",
       " '###': <gensim.models.keyedvectors.Vocab at 0x1a35b2a6d8>,\n",
       " 'up': <gensim.models.keyedvectors.Vocab at 0x1a35b2a748>,\n",
       " 'been': <gensim.models.keyedvectors.Vocab at 0x1a35b2a7b8>,\n",
       " 'you': <gensim.models.keyedvectors.Vocab at 0x1a35b2a828>,\n",
       " 'its': <gensim.models.keyedvectors.Vocab at 0x1a35b2a898>,\n",
       " 'one': <gensim.models.keyedvectors.Vocab at 0x1a35b2a908>,\n",
       " 'about': <gensim.models.keyedvectors.Vocab at 0x1a35b2a978>,\n",
       " 'would': <gensim.models.keyedvectors.Vocab at 0x1a35b2a9e8>,\n",
       " 'which': <gensim.models.keyedvectors.Vocab at 0x1a35b2aa58>,\n",
       " 'out': <gensim.models.keyedvectors.Vocab at 0x1a35b2aac8>,\n",
       " 'can': <gensim.models.keyedvectors.Vocab at 0x1a35b2ab38>,\n",
       " 'It': <gensim.models.keyedvectors.Vocab at 0x1a35b2aba8>,\n",
       " 'all': <gensim.models.keyedvectors.Vocab at 0x1a35b2ac18>,\n",
       " 'also': <gensim.models.keyedvectors.Vocab at 0x1a35b2ac88>,\n",
       " 'two': <gensim.models.keyedvectors.Vocab at 0x1a35b2acf8>,\n",
       " 'after': <gensim.models.keyedvectors.Vocab at 0x1a35b2ad68>,\n",
       " 'first': <gensim.models.keyedvectors.Vocab at 0x1a35b2add8>,\n",
       " 'He': <gensim.models.keyedvectors.Vocab at 0x1a35b2ae48>,\n",
       " 'do': <gensim.models.keyedvectors.Vocab at 0x1a35b2aeb8>,\n",
       " 'time': <gensim.models.keyedvectors.Vocab at 0x1a35b2af28>,\n",
       " 'than': <gensim.models.keyedvectors.Vocab at 0x1a35b2af98>,\n",
       " 'when': <gensim.models.keyedvectors.Vocab at 0x1a35b29048>,\n",
       " 'We': <gensim.models.keyedvectors.Vocab at 0x1a35b290b8>,\n",
       " 'over': <gensim.models.keyedvectors.Vocab at 0x1a35b29128>,\n",
       " 'last': <gensim.models.keyedvectors.Vocab at 0x1a35b29198>,\n",
       " 'new': <gensim.models.keyedvectors.Vocab at 0x1a35b29208>,\n",
       " 'other': <gensim.models.keyedvectors.Vocab at 0x1a35b29278>,\n",
       " 'her': <gensim.models.keyedvectors.Vocab at 0x1a35b292e8>,\n",
       " 'people': <gensim.models.keyedvectors.Vocab at 0x1a35b29358>,\n",
       " 'into': <gensim.models.keyedvectors.Vocab at 0x1a35b293c8>,\n",
       " 'In': <gensim.models.keyedvectors.Vocab at 0x1a35b29438>,\n",
       " 'our': <gensim.models.keyedvectors.Vocab at 0x1a35b294a8>,\n",
       " 'there': <gensim.models.keyedvectors.Vocab at 0x1a35b29518>,\n",
       " 'A': <gensim.models.keyedvectors.Vocab at 0x1a35b29550>,\n",
       " 'she': <gensim.models.keyedvectors.Vocab at 0x1a35b295c0>,\n",
       " 'could': <gensim.models.keyedvectors.Vocab at 0x1a35b29630>,\n",
       " 'just': <gensim.models.keyedvectors.Vocab at 0x1a35b296a0>,\n",
       " 'years': <gensim.models.keyedvectors.Vocab at 0x1a35b29710>,\n",
       " 'some': <gensim.models.keyedvectors.Vocab at 0x1a35b29780>,\n",
       " 'U.S.': <gensim.models.keyedvectors.Vocab at 0x1a35b297f0>,\n",
       " 'three': <gensim.models.keyedvectors.Vocab at 0x1a35b29860>,\n",
       " 'million': <gensim.models.keyedvectors.Vocab at 0x1a35b298d0>,\n",
       " 'them': <gensim.models.keyedvectors.Vocab at 0x1a35b29940>,\n",
       " 'what': <gensim.models.keyedvectors.Vocab at 0x1a35b299b0>,\n",
       " 'But': <gensim.models.keyedvectors.Vocab at 0x1a35b29a20>,\n",
       " 'so': <gensim.models.keyedvectors.Vocab at 0x1a35b29a90>,\n",
       " 'no': <gensim.models.keyedvectors.Vocab at 0x1a35b29b00>,\n",
       " 'like': <gensim.models.keyedvectors.Vocab at 0x1a35b29b70>,\n",
       " 'if': <gensim.models.keyedvectors.Vocab at 0x1a35b29be0>,\n",
       " 'only': <gensim.models.keyedvectors.Vocab at 0x1a35b29c50>,\n",
       " 'percent': <gensim.models.keyedvectors.Vocab at 0x1a35b29cc0>,\n",
       " 'get': <gensim.models.keyedvectors.Vocab at 0x1a35b29d30>,\n",
       " 'did': <gensim.models.keyedvectors.Vocab at 0x1a35b29da0>,\n",
       " 'him': <gensim.models.keyedvectors.Vocab at 0x1a35b29e10>,\n",
       " 'game': <gensim.models.keyedvectors.Vocab at 0x1a35b29e80>,\n",
       " 'back': <gensim.models.keyedvectors.Vocab at 0x1a35b29ef0>,\n",
       " 'because': <gensim.models.keyedvectors.Vocab at 0x1a35b29f60>,\n",
       " 'now': <gensim.models.keyedvectors.Vocab at 0x1a35b29fd0>,\n",
       " '#.#': <gensim.models.keyedvectors.Vocab at 0x1a35b2c080>,\n",
       " 'before': <gensim.models.keyedvectors.Vocab at 0x1a35b2c0f0>,\n",
       " 'company': <gensim.models.keyedvectors.Vocab at 0x1a35b2c160>,\n",
       " 'any': <gensim.models.keyedvectors.Vocab at 0x1a35b2c1d0>,\n",
       " 'team': <gensim.models.keyedvectors.Vocab at 0x1a35b2c240>,\n",
       " 'against': <gensim.models.keyedvectors.Vocab at 0x1a35b2c2b0>,\n",
       " 'off': <gensim.models.keyedvectors.Vocab at 0x1a35b2c320>,\n",
       " 'This': <gensim.models.keyedvectors.Vocab at 0x1a35b2c390>,\n",
       " 'most': <gensim.models.keyedvectors.Vocab at 0x1a35b2c400>,\n",
       " 'made': <gensim.models.keyedvectors.Vocab at 0x1a35b2c470>,\n",
       " 'through': <gensim.models.keyedvectors.Vocab at 0x1a35b2c4e0>,\n",
       " 'make': <gensim.models.keyedvectors.Vocab at 0x1a35b2c550>,\n",
       " 'second': <gensim.models.keyedvectors.Vocab at 0x1a35b2c5c0>,\n",
       " 'state': <gensim.models.keyedvectors.Vocab at 0x1a35b2c630>,\n",
       " 'well': <gensim.models.keyedvectors.Vocab at 0x1a35b2c6a0>,\n",
       " 'day': <gensim.models.keyedvectors.Vocab at 0x1a35b2c710>,\n",
       " 'season': <gensim.models.keyedvectors.Vocab at 0x1a35b2c780>,\n",
       " 'says': <gensim.models.keyedvectors.Vocab at 0x1a35b2c7f0>,\n",
       " 'week': <gensim.models.keyedvectors.Vocab at 0x1a35b2c860>,\n",
       " 'where': <gensim.models.keyedvectors.Vocab at 0x1a35b2c8d0>,\n",
       " 'while': <gensim.models.keyedvectors.Vocab at 0x1a35b2c940>,\n",
       " 'down': <gensim.models.keyedvectors.Vocab at 0x1a35b2c9b0>,\n",
       " 'being': <gensim.models.keyedvectors.Vocab at 0x1a35b2ca20>,\n",
       " 'government': <gensim.models.keyedvectors.Vocab at 0x1a35b2ca58>,\n",
       " 'your': <gensim.models.keyedvectors.Vocab at 0x1a35b2cac8>,\n",
       " '#-#': <gensim.models.keyedvectors.Vocab at 0x1a35b2cb38>,\n",
       " 'home': <gensim.models.keyedvectors.Vocab at 0x1a35b2cba8>,\n",
       " 'going': <gensim.models.keyedvectors.Vocab at 0x1a35b2cc18>,\n",
       " 'my': <gensim.models.keyedvectors.Vocab at 0x1a35b2cc88>,\n",
       " 'good': <gensim.models.keyedvectors.Vocab at 0x1a35b2ccf8>,\n",
       " 'They': <gensim.models.keyedvectors.Vocab at 0x1a35b2cd68>,\n",
       " \"'re\": <gensim.models.keyedvectors.Vocab at 0x1a35b2cdd8>,\n",
       " 'should': <gensim.models.keyedvectors.Vocab at 0x1a35b2ce48>,\n",
       " 'many': <gensim.models.keyedvectors.Vocab at 0x1a35b2ceb8>,\n",
       " 'way': <gensim.models.keyedvectors.Vocab at 0x1a236009e8>,\n",
       " 'those': <gensim.models.keyedvectors.Vocab at 0x1d1ffd8f60>,\n",
       " 'four': <gensim.models.keyedvectors.Vocab at 0x1d1ffd8438>,\n",
       " 'during': <gensim.models.keyedvectors.Vocab at 0x1a35b0ed30>,\n",
       " 'such': <gensim.models.keyedvectors.Vocab at 0x1a34919e48>,\n",
       " 'may': <gensim.models.keyedvectors.Vocab at 0x1a56c163c8>,\n",
       " 'very': <gensim.models.keyedvectors.Vocab at 0x1a56c16940>,\n",
       " 'how': <gensim.models.keyedvectors.Vocab at 0x1a56c4ca90>,\n",
       " 'since': <gensim.models.keyedvectors.Vocab at 0x1a359d4208>,\n",
       " 'work': <gensim.models.keyedvectors.Vocab at 0x1a359d47b8>,\n",
       " 'take': <gensim.models.keyedvectors.Vocab at 0x1a359d4668>,\n",
       " 'including': <gensim.models.keyedvectors.Vocab at 0x1a359d48d0>,\n",
       " 'high': <gensim.models.keyedvectors.Vocab at 0x1a359d4470>,\n",
       " 'then': <gensim.models.keyedvectors.Vocab at 0x1a359d4400>,\n",
       " '%': <gensim.models.keyedvectors.Vocab at 0x1a359d4860>,\n",
       " 'next': <gensim.models.keyedvectors.Vocab at 0x1a35b2cf28>,\n",
       " '#,###': <gensim.models.keyedvectors.Vocab at 0x1a35b2cf98>,\n",
       " 'By': <gensim.models.keyedvectors.Vocab at 0x1a35b2d048>,\n",
       " 'much': <gensim.models.keyedvectors.Vocab at 0x1a35b2d0b8>,\n",
       " 'still': <gensim.models.keyedvectors.Vocab at 0x1a35b2d128>,\n",
       " 'go': <gensim.models.keyedvectors.Vocab at 0x1a35b2d198>,\n",
       " 'think': <gensim.models.keyedvectors.Vocab at 0x1a35b2d208>,\n",
       " 'old': <gensim.models.keyedvectors.Vocab at 0x1a35b2d278>,\n",
       " 'even': <gensim.models.keyedvectors.Vocab at 0x1a35b2d2e8>,\n",
       " '#.##': <gensim.models.keyedvectors.Vocab at 0x1a35b2d358>,\n",
       " 'world': <gensim.models.keyedvectors.Vocab at 0x1a35b2d3c8>,\n",
       " 'see': <gensim.models.keyedvectors.Vocab at 0x1a35b2d438>,\n",
       " 'say': <gensim.models.keyedvectors.Vocab at 0x1a35b2d4a8>,\n",
       " 'business': <gensim.models.keyedvectors.Vocab at 0x1a35b2d4e0>,\n",
       " 'five': <gensim.models.keyedvectors.Vocab at 0x1a35b2d550>,\n",
       " 'told': <gensim.models.keyedvectors.Vocab at 0x1a35b2d5c0>,\n",
       " 'under': <gensim.models.keyedvectors.Vocab at 0x1a35b2d630>,\n",
       " 'us': <gensim.models.keyedvectors.Vocab at 0x1a35b2d6a0>,\n",
       " '1': <gensim.models.keyedvectors.Vocab at 0x1a35b2d6d8>,\n",
       " 'these': <gensim.models.keyedvectors.Vocab at 0x1a35b2d748>,\n",
       " 'If': <gensim.models.keyedvectors.Vocab at 0x1a35b2d7b8>,\n",
       " 'right': <gensim.models.keyedvectors.Vocab at 0x1a35b2d828>,\n",
       " 'And': <gensim.models.keyedvectors.Vocab at 0x1a35b2d898>,\n",
       " 'me': <gensim.models.keyedvectors.Vocab at 0x1a35b2d908>,\n",
       " 'between': <gensim.models.keyedvectors.Vocab at 0x1a35b2d978>,\n",
       " 'play': <gensim.models.keyedvectors.Vocab at 0x1a35b2d9e8>,\n",
       " 'help': <gensim.models.keyedvectors.Vocab at 0x1a35b2da58>,\n",
       " '##,###': <gensim.models.keyedvectors.Vocab at 0x1a35b2dac8>,\n",
       " 'market': <gensim.models.keyedvectors.Vocab at 0x1a35b2db38>,\n",
       " 'That': <gensim.models.keyedvectors.Vocab at 0x1a35b2dba8>,\n",
       " 'know': <gensim.models.keyedvectors.Vocab at 0x1a35b2dc18>,\n",
       " 'end': <gensim.models.keyedvectors.Vocab at 0x1a35b2dc88>,\n",
       " 'AP': <gensim.models.keyedvectors.Vocab at 0x1a35b2dcf8>,\n",
       " 'long': <gensim.models.keyedvectors.Vocab at 0x1a35b2dd68>,\n",
       " 'information': <gensim.models.keyedvectors.Vocab at 0x1a35b2dda0>,\n",
       " 'points': <gensim.models.keyedvectors.Vocab at 0x1a35b2de10>,\n",
       " 'does': <gensim.models.keyedvectors.Vocab at 0x1a35b2de80>,\n",
       " 'both': <gensim.models.keyedvectors.Vocab at 0x1a35b2def0>,\n",
       " 'There': <gensim.models.keyedvectors.Vocab at 0x1a35b2df60>,\n",
       " 'part': <gensim.models.keyedvectors.Vocab at 0x1a35b2dfd0>,\n",
       " 'around': <gensim.models.keyedvectors.Vocab at 0x1a35b2e080>,\n",
       " 'police': <gensim.models.keyedvectors.Vocab at 0x1a35b2e0f0>,\n",
       " 'want': <gensim.models.keyedvectors.Vocab at 0x1a35b2e160>,\n",
       " \"'ve\": <gensim.models.keyedvectors.Vocab at 0x1a35b2e1d0>,\n",
       " 'based': <gensim.models.keyedvectors.Vocab at 0x1a35b2e240>,\n",
       " 'For': <gensim.models.keyedvectors.Vocab at 0x1a35b2e2b0>,\n",
       " 'got': <gensim.models.keyedvectors.Vocab at 0x1a35b2e320>,\n",
       " 'third': <gensim.models.keyedvectors.Vocab at 0x1a35b2e390>,\n",
       " 'school': <gensim.models.keyedvectors.Vocab at 0x1a35b2e400>,\n",
       " 'left': <gensim.models.keyedvectors.Vocab at 0x1a35b2e470>,\n",
       " 'another': <gensim.models.keyedvectors.Vocab at 0x1a35b2e4e0>,\n",
       " 'country': <gensim.models.keyedvectors.Vocab at 0x1a35b2e550>,\n",
       " 'need': <gensim.models.keyedvectors.Vocab at 0x1a35b2e5c0>,\n",
       " '2': <gensim.models.keyedvectors.Vocab at 0x1a35b2e5f8>,\n",
       " 'best': <gensim.models.keyedvectors.Vocab at 0x1a35b2e668>,\n",
       " 'win': <gensim.models.keyedvectors.Vocab at 0x1a35b2e6d8>,\n",
       " 'quarter': <gensim.models.keyedvectors.Vocab at 0x1a35b2e748>,\n",
       " 'use': <gensim.models.keyedvectors.Vocab at 0x1a35b2e7b8>,\n",
       " 'today': <gensim.models.keyedvectors.Vocab at 0x1a35b2e828>,\n",
       " '##.#': <gensim.models.keyedvectors.Vocab at 0x1a35b2e898>,\n",
       " 'same': <gensim.models.keyedvectors.Vocab at 0x1a35b2e908>,\n",
       " 'public': <gensim.models.keyedvectors.Vocab at 0x1a35b2e978>,\n",
       " 'run': <gensim.models.keyedvectors.Vocab at 0x1a35b2e9e8>,\n",
       " 'Friday': <gensim.models.keyedvectors.Vocab at 0x1a35b2ea58>,\n",
       " 'set': <gensim.models.keyedvectors.Vocab at 0x1a35b2eac8>,\n",
       " 'month': <gensim.models.keyedvectors.Vocab at 0x1a35b2eb38>,\n",
       " 'top': <gensim.models.keyedvectors.Vocab at 0x1a35b2eba8>,\n",
       " 'billion': <gensim.models.keyedvectors.Vocab at 0x1a35b2ec18>,\n",
       " 'Tuesday': <gensim.models.keyedvectors.Vocab at 0x1a35b2ec88>,\n",
       " 'come': <gensim.models.keyedvectors.Vocab at 0x1a35b2ecf8>,\n",
       " 'Monday': <gensim.models.keyedvectors.Vocab at 0x1a35b2ed68>,\n",
       " 'She': <gensim.models.keyedvectors.Vocab at 0x1a35b2edd8>,\n",
       " 'city': <gensim.models.keyedvectors.Vocab at 0x1a35b2ee48>,\n",
       " 'place': <gensim.models.keyedvectors.Vocab at 0x1a35b2eeb8>,\n",
       " 'night': <gensim.models.keyedvectors.Vocab at 0x1a35b2ef28>,\n",
       " 'six': <gensim.models.keyedvectors.Vocab at 0x1a35b2ef98>,\n",
       " 'each': <gensim.models.keyedvectors.Vocab at 0x1a35b31048>,\n",
       " 'Thursday': <gensim.models.keyedvectors.Vocab at 0x1a35b31080>,\n",
       " '###,###': <gensim.models.keyedvectors.Vocab at 0x1a35b310f0>,\n",
       " 'Wednesday': <gensim.models.keyedvectors.Vocab at 0x1a35b31128>,\n",
       " 'here': <gensim.models.keyedvectors.Vocab at 0x1a35b31198>,\n",
       " 'You': <gensim.models.keyedvectors.Vocab at 0x1a35b31208>,\n",
       " 'group': <gensim.models.keyedvectors.Vocab at 0x1a35b31278>,\n",
       " 'really': <gensim.models.keyedvectors.Vocab at 0x1a35b312e8>,\n",
       " 'found': <gensim.models.keyedvectors.Vocab at 0x1a35b31358>,\n",
       " 'As': <gensim.models.keyedvectors.Vocab at 0x1a35b313c8>,\n",
       " 'used': <gensim.models.keyedvectors.Vocab at 0x1a35b31438>,\n",
       " '3': <gensim.models.keyedvectors.Vocab at 0x1a35b31470>,\n",
       " 'lot': <gensim.models.keyedvectors.Vocab at 0x1a35b314e0>,\n",
       " \"'m\": <gensim.models.keyedvectors.Vocab at 0x1a35b31550>,\n",
       " 'money': <gensim.models.keyedvectors.Vocab at 0x1a35b315c0>,\n",
       " 'put': <gensim.models.keyedvectors.Vocab at 0x1a35b31630>,\n",
       " 'games': <gensim.models.keyedvectors.Vocab at 0x1a35b316a0>,\n",
       " 'support': <gensim.models.keyedvectors.Vocab at 0x1a35b31710>,\n",
       " 'program': <gensim.models.keyedvectors.Vocab at 0x1a35b31780>,\n",
       " 'half': <gensim.models.keyedvectors.Vocab at 0x1a35b317f0>,\n",
       " 'report': <gensim.models.keyedvectors.Vocab at 0x1a35b31860>,\n",
       " 'family': <gensim.models.keyedvectors.Vocab at 0x1a35b318d0>,\n",
       " 'months': <gensim.models.keyedvectors.Vocab at 0x1a35b31940>,\n",
       " 'number': <gensim.models.keyedvectors.Vocab at 0x1a35b319b0>,\n",
       " 'officials': <gensim.models.keyedvectors.Vocab at 0x1a35b319e8>,\n",
       " 'am': <gensim.models.keyedvectors.Vocab at 0x1a35b31a58>,\n",
       " 'former': <gensim.models.keyedvectors.Vocab at 0x1a35b31ac8>,\n",
       " 'own': <gensim.models.keyedvectors.Vocab at 0x1a35b31b38>,\n",
       " 'man': <gensim.models.keyedvectors.Vocab at 0x1a35b31ba8>,\n",
       " 'Saturday': <gensim.models.keyedvectors.Vocab at 0x1a35b31be0>,\n",
       " 'too': <gensim.models.keyedvectors.Vocab at 0x1a35b31c50>,\n",
       " 'better': <gensim.models.keyedvectors.Vocab at 0x1a35b31cc0>,\n",
       " 'days': <gensim.models.keyedvectors.Vocab at 0x1a35b31d30>,\n",
       " 'came': <gensim.models.keyedvectors.Vocab at 0x1a35b31da0>,\n",
       " 'lead': <gensim.models.keyedvectors.Vocab at 0x1a35b31e10>,\n",
       " 'life': <gensim.models.keyedvectors.Vocab at 0x1a35b31e80>,\n",
       " 'American': <gensim.models.keyedvectors.Vocab at 0x1a35b31eb8>,\n",
       " '##-##': <gensim.models.keyedvectors.Vocab at 0x1a35b31f28>,\n",
       " 'show': <gensim.models.keyedvectors.Vocab at 0x1a35b31f98>,\n",
       " 'past': <gensim.models.keyedvectors.Vocab at 0x1a35b33048>,\n",
       " 'took': <gensim.models.keyedvectors.Vocab at 0x1a35b330b8>,\n",
       " 'added': <gensim.models.keyedvectors.Vocab at 0x1a35b33128>,\n",
       " 'expected': <gensim.models.keyedvectors.Vocab at 0x1a35b33160>,\n",
       " 'called': <gensim.models.keyedvectors.Vocab at 0x1a35b331d0>,\n",
       " 'great': <gensim.models.keyedvectors.Vocab at 0x1a35b33240>,\n",
       " 'State': <gensim.models.keyedvectors.Vocab at 0x1a35b332b0>,\n",
       " 'services': <gensim.models.keyedvectors.Vocab at 0x1a35b332e8>,\n",
       " 'children': <gensim.models.keyedvectors.Vocab at 0x1a35b33320>,\n",
       " 'hit': <gensim.models.keyedvectors.Vocab at 0x1a35b33390>,\n",
       " 'area': <gensim.models.keyedvectors.Vocab at 0x1a35b33400>,\n",
       " 'system': <gensim.models.keyedvectors.Vocab at 0x1a35b33470>,\n",
       " 'every': <gensim.models.keyedvectors.Vocab at 0x1a35b334e0>,\n",
       " 'pm': <gensim.models.keyedvectors.Vocab at 0x1a35b33550>,\n",
       " 'big': <gensim.models.keyedvectors.Vocab at 0x1a35b335c0>,\n",
       " 'service': <gensim.models.keyedvectors.Vocab at 0x1a35b33630>,\n",
       " 'few': <gensim.models.keyedvectors.Vocab at 0x1a35b336a0>,\n",
       " 'per': <gensim.models.keyedvectors.Vocab at 0x1a35b33710>,\n",
       " 'members': <gensim.models.keyedvectors.Vocab at 0x1a35b33780>,\n",
       " 'Sunday': <gensim.models.keyedvectors.Vocab at 0x1a35b337f0>,\n",
       " 'early': <gensim.models.keyedvectors.Vocab at 0x1a35b33860>,\n",
       " 'point': <gensim.models.keyedvectors.Vocab at 0x1a35b338d0>,\n",
       " 'start': <gensim.models.keyedvectors.Vocab at 0x1a35b33940>,\n",
       " 'companies': <gensim.models.keyedvectors.Vocab at 0x1a35b33978>,\n",
       " 'little': <gensim.models.keyedvectors.Vocab at 0x1a35b339e8>,\n",
       " '&': <gensim.models.keyedvectors.Vocab at 0x1a35b33a20>,\n",
       " 'case': <gensim.models.keyedvectors.Vocab at 0x1a35b33a90>,\n",
       " 'ago': <gensim.models.keyedvectors.Vocab at 0x1a35b33b00>,\n",
       " 'local': <gensim.models.keyedvectors.Vocab at 0x1a35b33b70>,\n",
       " 'according': <gensim.models.keyedvectors.Vocab at 0x1a35b33ba8>,\n",
       " 'never': <gensim.models.keyedvectors.Vocab at 0x1a35b33c18>,\n",
       " '5': <gensim.models.keyedvectors.Vocab at 0x1a35b33c50>,\n",
       " 'without': <gensim.models.keyedvectors.Vocab at 0x1a35b33cc0>,\n",
       " 'sales': <gensim.models.keyedvectors.Vocab at 0x1a35b33d30>,\n",
       " 'until': <gensim.models.keyedvectors.Vocab at 0x1a35b33da0>,\n",
       " 'went': <gensim.models.keyedvectors.Vocab at 0x1a35b33e10>,\n",
       " 'players': <gensim.models.keyedvectors.Vocab at 0x1a35b33e80>,\n",
       " '##th': <gensim.models.keyedvectors.Vocab at 0x1a35b33ef0>,\n",
       " 'New_York': <gensim.models.keyedvectors.Vocab at 0x1a35b33f28>,\n",
       " 'won': <gensim.models.keyedvectors.Vocab at 0x1a35b33f98>,\n",
       " 'financial': <gensim.models.keyedvectors.Vocab at 0x1a35b33fd0>,\n",
       " 'news': <gensim.models.keyedvectors.Vocab at 0x1a35b36080>,\n",
       " '4': <gensim.models.keyedvectors.Vocab at 0x1a35b360b8>,\n",
       " 'When': <gensim.models.keyedvectors.Vocab at 0x1a35b36128>,\n",
       " 'share': <gensim.models.keyedvectors.Vocab at 0x1a35b36198>,\n",
       " 'several': <gensim.models.keyedvectors.Vocab at 0x1a35b36208>,\n",
       " 'free': <gensim.models.keyedvectors.Vocab at 0x1a35b36278>,\n",
       " 'away': <gensim.models.keyedvectors.Vocab at 0x1a35b362e8>,\n",
       " '##.##': <gensim.models.keyedvectors.Vocab at 0x1a35b36358>,\n",
       " 'already': <gensim.models.keyedvectors.Vocab at 0x1a35b363c8>,\n",
       " 'On': <gensim.models.keyedvectors.Vocab at 0x1a35b36438>,\n",
       " 'industry': <gensim.models.keyedvectors.Vocab at 0x1a35b36470>,\n",
       " \"'ll\": <gensim.models.keyedvectors.Vocab at 0x1a35b364e0>,\n",
       " 'call': <gensim.models.keyedvectors.Vocab at 0x1a35b36550>,\n",
       " 'With': <gensim.models.keyedvectors.Vocab at 0x1a35b365c0>,\n",
       " 'students': <gensim.models.keyedvectors.Vocab at 0x1a35b365f8>,\n",
       " 'line': <gensim.models.keyedvectors.Vocab at 0x1a35b36668>,\n",
       " 'available': <gensim.models.keyedvectors.Vocab at 0x1a35b366a0>,\n",
       " 'County': <gensim.models.keyedvectors.Vocab at 0x1a35b36710>,\n",
       " 'making': <gensim.models.keyedvectors.Vocab at 0x1a35b36780>,\n",
       " 'held': <gensim.models.keyedvectors.Vocab at 0x1a35b367f0>,\n",
       " 'final': <gensim.models.keyedvectors.Vocab at 0x1a35b36860>,\n",
       " '#:##': <gensim.models.keyedvectors.Vocab at 0x1a35b368d0>,\n",
       " 'power': <gensim.models.keyedvectors.Vocab at 0x1a35b36940>,\n",
       " 'plan': <gensim.models.keyedvectors.Vocab at 0x1a35b369b0>,\n",
       " 'might': <gensim.models.keyedvectors.Vocab at 0x1a35b36a20>,\n",
       " 'least': <gensim.models.keyedvectors.Vocab at 0x1a35b36a90>,\n",
       " 'look': <gensim.models.keyedvectors.Vocab at 0x1a35b36b00>,\n",
       " 'forward': <gensim.models.keyedvectors.Vocab at 0x1a35b36b70>,\n",
       " 'give': <gensim.models.keyedvectors.Vocab at 0x1a35b36be0>,\n",
       " 'At': <gensim.models.keyedvectors.Vocab at 0x1a35b36c50>,\n",
       " 'again': <gensim.models.keyedvectors.Vocab at 0x1a35b36cc0>,\n",
       " 'later': <gensim.models.keyedvectors.Vocab at 0x1a35b36d30>,\n",
       " 'full': <gensim.models.keyedvectors.Vocab at 0x1a35b36da0>,\n",
       " 'must': <gensim.models.keyedvectors.Vocab at 0x1a35b36e10>,\n",
       " 'things': <gensim.models.keyedvectors.Vocab at 0x1a35b36e80>,\n",
       " 'major': <gensim.models.keyedvectors.Vocab at 0x1a35b36ef0>,\n",
       " 'community': <gensim.models.keyedvectors.Vocab at 0x1a35b36f28>,\n",
       " 'announced': <gensim.models.keyedvectors.Vocab at 0x1a35b36f60>,\n",
       " 'open': <gensim.models.keyedvectors.Vocab at 0x1a35b36fd0>,\n",
       " 'record': <gensim.models.keyedvectors.Vocab at 0x1a35b37080>,\n",
       " 'reported': <gensim.models.keyedvectors.Vocab at 0x1a35b370b8>,\n",
       " 'court': <gensim.models.keyedvectors.Vocab at 0x1a35b37128>,\n",
       " 'working': <gensim.models.keyedvectors.Vocab at 0x1a35b37198>,\n",
       " 'able': <gensim.models.keyedvectors.Vocab at 0x1a35b37208>,\n",
       " 'something': <gensim.models.keyedvectors.Vocab at 0x1a35b37240>,\n",
       " 'president': <gensim.models.keyedvectors.Vocab at 0x1a35b37278>,\n",
       " 'meeting': <gensim.models.keyedvectors.Vocab at 0x1a35b372e8>,\n",
       " 'keep': <gensim.models.keyedvectors.Vocab at 0x1a35b37358>,\n",
       " 'March': <gensim.models.keyedvectors.Vocab at 0x1a35b373c8>,\n",
       " 'future': <gensim.models.keyedvectors.Vocab at 0x1a35b37438>,\n",
       " 'far': <gensim.models.keyedvectors.Vocab at 0x1a35b374a8>,\n",
       " 'deal': <gensim.models.keyedvectors.Vocab at 0x1a35b37518>,\n",
       " 'City': <gensim.models.keyedvectors.Vocab at 0x1a35b37588>,\n",
       " 'May': <gensim.models.keyedvectors.Vocab at 0x1a35b375f8>,\n",
       " 'development': <gensim.models.keyedvectors.Vocab at 0x1a35b37630>,\n",
       " 'University': <gensim.models.keyedvectors.Vocab at 0x1a35b37668>,\n",
       " 'find': <gensim.models.keyedvectors.Vocab at 0x1a35b376d8>,\n",
       " 'times': <gensim.models.keyedvectors.Vocab at 0x1a35b37748>,\n",
       " 'After': <gensim.models.keyedvectors.Vocab at 0x1a35b377b8>,\n",
       " 'office': <gensim.models.keyedvectors.Vocab at 0x1a35b37828>,\n",
       " 'led': <gensim.models.keyedvectors.Vocab at 0x1a35b37898>,\n",
       " 'among': <gensim.models.keyedvectors.Vocab at 0x1a35b37908>,\n",
       " 'June': <gensim.models.keyedvectors.Vocab at 0x1a35b37978>,\n",
       " 'increase': <gensim.models.keyedvectors.Vocab at 0x1a35b379b0>,\n",
       " 'China': <gensim.models.keyedvectors.Vocab at 0x1a35b37a20>,\n",
       " 'John': <gensim.models.keyedvectors.Vocab at 0x1a35b37a90>,\n",
       " 'whether': <gensim.models.keyedvectors.Vocab at 0x1a35b37b00>,\n",
       " 'cost': <gensim.models.keyedvectors.Vocab at 0x1a35b37b70>,\n",
       " 'security': <gensim.models.keyedvectors.Vocab at 0x1a35b37ba8>,\n",
       " 'job': <gensim.models.keyedvectors.Vocab at 0x1a35b37c18>,\n",
       " 'less': <gensim.models.keyedvectors.Vocab at 0x1a35b37c88>,\n",
       " 'head': <gensim.models.keyedvectors.Vocab at 0x1a35b37cf8>,\n",
       " 'seven': <gensim.models.keyedvectors.Vocab at 0x1a35b37d68>,\n",
       " 'growth': <gensim.models.keyedvectors.Vocab at 0x1a35b37dd8>,\n",
       " 'lost': <gensim.models.keyedvectors.Vocab at 0x1a35b37e48>,\n",
       " 'pay': <gensim.models.keyedvectors.Vocab at 0x1a35b37eb8>,\n",
       " 'looking': <gensim.models.keyedvectors.Vocab at 0x1a35b37f28>,\n",
       " 'provide': <gensim.models.keyedvectors.Vocab at 0x1a35b37f98>,\n",
       " '6': <gensim.models.keyedvectors.Vocab at 0x1a35b37fd0>,\n",
       " 'To': <gensim.models.keyedvectors.Vocab at 0x1a35b3e080>,\n",
       " 'plans': <gensim.models.keyedvectors.Vocab at 0x1a35b3e0f0>,\n",
       " 'products': <gensim.models.keyedvectors.Vocab at 0x1a35b3e128>,\n",
       " 'car': <gensim.models.keyedvectors.Vocab at 0x1a35b3e198>,\n",
       " 'recent': <gensim.models.keyedvectors.Vocab at 0x1a35b3e208>,\n",
       " 'hard': <gensim.models.keyedvectors.Vocab at 0x1a35b3e278>,\n",
       " 'always': <gensim.models.keyedvectors.Vocab at 0x1a35b3e2e8>,\n",
       " 'include': <gensim.models.keyedvectors.Vocab at 0x1a35b3e358>,\n",
       " 'women': <gensim.models.keyedvectors.Vocab at 0x1a35b3e3c8>,\n",
       " 'across': <gensim.models.keyedvectors.Vocab at 0x1a35b3e438>,\n",
       " 'tax': <gensim.models.keyedvectors.Vocab at 0x1a35b3e4a8>,\n",
       " 'water': <gensim.models.keyedvectors.Vocab at 0x1a35b3e518>,\n",
       " 'April': <gensim.models.keyedvectors.Vocab at 0x1a35b3e588>,\n",
       " 'continue': <gensim.models.keyedvectors.Vocab at 0x1a35b3e5c0>,\n",
       " 'important': <gensim.models.keyedvectors.Vocab at 0x1a35b3e5f8>,\n",
       " 'different': <gensim.models.keyedvectors.Vocab at 0x1a35b3e630>,\n",
       " 'close': <gensim.models.keyedvectors.Vocab at 0x1a35b3e6a0>,\n",
       " '7': <gensim.models.keyedvectors.Vocab at 0x1a35b3e6d8>,\n",
       " 'One': <gensim.models.keyedvectors.Vocab at 0x1a35b3e748>,\n",
       " 'late': <gensim.models.keyedvectors.Vocab at 0x1a35b3e7b8>,\n",
       " 'decision': <gensim.models.keyedvectors.Vocab at 0x1a35b3e7f0>,\n",
       " 'current': <gensim.models.keyedvectors.Vocab at 0x1a35b3e860>,\n",
       " 'law': <gensim.models.keyedvectors.Vocab at 0x1a35b3e8d0>,\n",
       " 'within': <gensim.models.keyedvectors.Vocab at 0x1a35b3e940>,\n",
       " 'along': <gensim.models.keyedvectors.Vocab at 0x1a35b3e9b0>,\n",
       " 'played': <gensim.models.keyedvectors.Vocab at 0x1a35b3ea20>,\n",
       " 'move': <gensim.models.keyedvectors.Vocab at 0x1a35b3ea90>,\n",
       " 'United_States': <gensim.models.keyedvectors.Vocab at 0x1a35b3eac8>,\n",
       " 'enough': <gensim.models.keyedvectors.Vocab at 0x1a35b3eb38>,\n",
       " 'become': <gensim.models.keyedvectors.Vocab at 0x1a35b3eba8>,\n",
       " 'side': <gensim.models.keyedvectors.Vocab at 0x1a35b3ec18>,\n",
       " 'national': <gensim.models.keyedvectors.Vocab at 0x1a35b3ec50>,\n",
       " 'Inc.': <gensim.models.keyedvectors.Vocab at 0x1a35b3ecc0>,\n",
       " 'results': <gensim.models.keyedvectors.Vocab at 0x1a35b3ed30>,\n",
       " 'level': <gensim.models.keyedvectors.Vocab at 0x1a35b3eda0>,\n",
       " 'loss': <gensim.models.keyedvectors.Vocab at 0x1a35b3ee10>,\n",
       " 'economic': <gensim.models.keyedvectors.Vocab at 0x1a35b3ee48>,\n",
       " 'coach': <gensim.models.keyedvectors.Vocab at 0x1a35b3eeb8>,\n",
       " 'near': <gensim.models.keyedvectors.Vocab at 0x1a35b3ef28>,\n",
       " 'getting': <gensim.models.keyedvectors.Vocab at 0x1a35b3ef98>,\n",
       " 'price': <gensim.models.keyedvectors.Vocab at 0x1a359d3048>,\n",
       " 'Department': <gensim.models.keyedvectors.Vocab at 0x1a359d3080>,\n",
       " 'event': <gensim.models.keyedvectors.Vocab at 0x1a359d30f0>,\n",
       " 'fourth': <gensim.models.keyedvectors.Vocab at 0x1a359d3160>,\n",
       " 'change': <gensim.models.keyedvectors.Vocab at 0x1a359d31d0>,\n",
       " 'All': <gensim.models.keyedvectors.Vocab at 0x1a359d3240>,\n",
       " 'small': <gensim.models.keyedvectors.Vocab at 0x1a359d32b0>,\n",
       " 'board': <gensim.models.keyedvectors.Vocab at 0x1a359d3320>,\n",
       " 'National': <gensim.models.keyedvectors.Vocab at 0x1a359d3358>,\n",
       " 'So': <gensim.models.keyedvectors.Vocab at 0x1a359d33c8>,\n",
       " 'goal': <gensim.models.keyedvectors.Vocab at 0x1a359d3438>,\n",
       " 'taken': <gensim.models.keyedvectors.Vocab at 0x1a359d34a8>,\n",
       " 'field': <gensim.models.keyedvectors.Vocab at 0x1a359d3518>,\n",
       " 'prices': <gensim.models.keyedvectors.Vocab at 0x1a359d3588>,\n",
       " 'weeks': <gensim.models.keyedvectors.Vocab at 0x1a359d35f8>,\n",
       " 'men': <gensim.models.keyedvectors.Vocab at 0x1a359d3668>,\n",
       " 'asked': <gensim.models.keyedvectors.Vocab at 0x1a359d36d8>,\n",
       " 'eight': <gensim.models.keyedvectors.Vocab at 0x1a359d3748>,\n",
       " 'data': <gensim.models.keyedvectors.Vocab at 0x1a359d37b8>,\n",
       " 'shot': <gensim.models.keyedvectors.Vocab at 0x1a359d3828>,\n",
       " 'New': <gensim.models.keyedvectors.Vocab at 0x1a359d3898>,\n",
       " 'started': <gensim.models.keyedvectors.Vocab at 0x1a359d3908>,\n",
       " 'July': <gensim.models.keyedvectors.Vocab at 0x1a359d3978>,\n",
       " 'director': <gensim.models.keyedvectors.Vocab at 0x1a359d39b0>,\n",
       " 'President': <gensim.models.keyedvectors.Vocab at 0x1a359d39e8>,\n",
       " 'party': <gensim.models.keyedvectors.Vocab at 0x1a359d3a58>,\n",
       " 'federal': <gensim.models.keyedvectors.Vocab at 0x1a359d3ac8>,\n",
       " 'done': <gensim.models.keyedvectors.Vocab at 0x1a359d3b38>,\n",
       " 'political': <gensim.models.keyedvectors.Vocab at 0x1a359d3b70>,\n",
       " 'minutes': <gensim.models.keyedvectors.Vocab at 0x1a359d3be0>,\n",
       " 'taking': <gensim.models.keyedvectors.Vocab at 0x1a359d3c50>,\n",
       " 'Company': <gensim.models.keyedvectors.Vocab at 0x1a359d3cc0>,\n",
       " 'technology': <gensim.models.keyedvectors.Vocab at 0x1a359d3cf8>,\n",
       " 'project': <gensim.models.keyedvectors.Vocab at 0x1a359d3d68>,\n",
       " 'center': <gensim.models.keyedvectors.Vocab at 0x1a359d3dd8>,\n",
       " 'leading': <gensim.models.keyedvectors.Vocab at 0x1a359d3e48>,\n",
       " 'issue': <gensim.models.keyedvectors.Vocab at 0x1a359d3eb8>,\n",
       " 'though': <gensim.models.keyedvectors.Vocab at 0x1a359d3f28>,\n",
       " 'having': <gensim.models.keyedvectors.Vocab at 0x1a359d3f98>,\n",
       " 'period': <gensim.models.keyedvectors.Vocab at 0x1a359d0fd0>,\n",
       " 'likely': <gensim.models.keyedvectors.Vocab at 0x1a359d0f60>,\n",
       " 'scored': <gensim.models.keyedvectors.Vocab at 0x1a359d0ef0>,\n",
       " '8': <gensim.models.keyedvectors.Vocab at 0x1a359d0eb8>,\n",
       " 'strong': <gensim.models.keyedvectors.Vocab at 0x1a359d0e48>,\n",
       " 'series': <gensim.models.keyedvectors.Vocab at 0x1a359d0dd8>,\n",
       " 'military': <gensim.models.keyedvectors.Vocab at 0x1a359d0da0>,\n",
       " 'seen': <gensim.models.keyedvectors.Vocab at 0x1a359d0d30>,\n",
       " 'trying': <gensim.models.keyedvectors.Vocab at 0x1a359d0cc0>,\n",
       " 'What': <gensim.models.keyedvectors.Vocab at 0x1a359d0c50>,\n",
       " 'coming': <gensim.models.keyedvectors.Vocab at 0x1a359d0be0>,\n",
       " 'process': <gensim.models.keyedvectors.Vocab at 0x1a359d0b70>,\n",
       " 'building': <gensim.models.keyedvectors.Vocab at 0x1a359d0b38>,\n",
       " 'behind': <gensim.models.keyedvectors.Vocab at 0x1a359d0ac8>,\n",
       " 'performance': <gensim.models.keyedvectors.Vocab at 0x1a359d0a90>,\n",
       " 'management': <gensim.models.keyedvectors.Vocab at 0x1a359d0a58>,\n",
       " 'Iraq': <gensim.models.keyedvectors.Vocab at 0x1a359d09e8>,\n",
       " 'saying': <gensim.models.keyedvectors.Vocab at 0x1a359d0978>,\n",
       " 'earlier': <gensim.models.keyedvectors.Vocab at 0x1a359d0908>,\n",
       " 'believe': <gensim.models.keyedvectors.Vocab at 0x1a359d0898>,\n",
       " 'oil': <gensim.models.keyedvectors.Vocab at 0x1a359d0828>,\n",
       " 'given': <gensim.models.keyedvectors.Vocab at 0x1a359d07b8>,\n",
       " 'Police': <gensim.models.keyedvectors.Vocab at 0x1a359d0748>,\n",
       " 'customers': <gensim.models.keyedvectors.Vocab at 0x1a359d0710>,\n",
       " 'due': <gensim.models.keyedvectors.Vocab at 0x1a359d06a0>,\n",
       " 'following': <gensim.models.keyedvectors.Vocab at 0x1a359d0668>,\n",
       " 'term': <gensim.models.keyedvectors.Vocab at 0x1a359d05f8>,\n",
       " 'others': <gensim.models.keyedvectors.Vocab at 0x1a359d0588>,\n",
       " 'statement': <gensim.models.keyedvectors.Vocab at 0x1a359d0550>,\n",
       " 'international': <gensim.models.keyedvectors.Vocab at 0x1a359d0518>,\n",
       " 'economy': <gensim.models.keyedvectors.Vocab at 0x1a359d04a8>,\n",
       " 'health': <gensim.models.keyedvectors.Vocab at 0x1a359d0438>,\n",
       " 'thing': <gensim.models.keyedvectors.Vocab at 0x1a359d03c8>,\n",
       " 'Obama': <gensim.models.keyedvectors.Vocab at 0x1a359d0358>,\n",
       " 'return': <gensim.models.keyedvectors.Vocab at 0x1a359d02e8>,\n",
       " 'killed': <gensim.models.keyedvectors.Vocab at 0x1a359d0278>,\n",
       " 'Washington': <gensim.models.keyedvectors.Vocab at 0x1a359d0240>,\n",
       " 'further': <gensim.models.keyedvectors.Vocab at 0x1a359d01d0>,\n",
       " 'However': <gensim.models.keyedvectors.Vocab at 0x1a359d0160>,\n",
       " 'doing': <gensim.models.keyedvectors.Vocab at 0x1a359d00f0>,\n",
       " 'face': <gensim.models.keyedvectors.Vocab at 0x1a359d0080>,\n",
       " 'low': <gensim.models.keyedvectors.Vocab at 0x1a359cdfd0>,\n",
       " 'higher': <gensim.models.keyedvectors.Vocab at 0x1a359cdf60>,\n",
       " 'site': <gensim.models.keyedvectors.Vocab at 0x1a359cdef0>,\n",
       " 'once': <gensim.models.keyedvectors.Vocab at 0x1a359cde80>,\n",
       " 'yet': <gensim.models.keyedvectors.Vocab at 0x1a359cde10>,\n",
       " 'hours': <gensim.models.keyedvectors.Vocab at 0x1a359cdda0>,\n",
       " 'America': <gensim.models.keyedvectors.Vocab at 0x1a359cdd30>,\n",
       " 'control': <gensim.models.keyedvectors.Vocab at 0x1a359cdcc0>,\n",
       " 'received': <gensim.models.keyedvectors.Vocab at 0x1a359cdc88>,\n",
       " 'rate': <gensim.models.keyedvectors.Vocab at 0x1a359cdc18>,\n",
       " 'career': <gensim.models.keyedvectors.Vocab at 0x1a359cdba8>,\n",
       " 'Bush': <gensim.models.keyedvectors.Vocab at 0x1a359cdb38>,\n",
       " 'teams': <gensim.models.keyedvectors.Vocab at 0x1a359cdac8>,\n",
       " 'known': <gensim.models.keyedvectors.Vocab at 0x1a359cda58>,\n",
       " 'offer': <gensim.models.keyedvectors.Vocab at 0x1a359cd9e8>,\n",
       " 'race': <gensim.models.keyedvectors.Vocab at 0x1a359cd978>,\n",
       " 'ever': <gensim.models.keyedvectors.Vocab at 0x1a359cd908>,\n",
       " 'experience': <gensim.models.keyedvectors.Vocab at 0x1a359cd8d0>,\n",
       " 'playing': <gensim.models.keyedvectors.Vocab at 0x1a359cd860>,\n",
       " 'name': <gensim.models.keyedvectors.Vocab at 0x1a359cd7f0>,\n",
       " 'possible': <gensim.models.keyedvectors.Vocab at 0x1a359cd7b8>,\n",
       " 'countries': <gensim.models.keyedvectors.Vocab at 0x1a359cd780>,\n",
       " 'Mr.': <gensim.models.keyedvectors.Vocab at 0x1a359cd710>,\n",
       " 'average': <gensim.models.keyedvectors.Vocab at 0x1a359cd6a0>,\n",
       " 'together': <gensim.models.keyedvectors.Vocab at 0x1a359cd668>,\n",
       " 'using': <gensim.models.keyedvectors.Vocab at 0x1a359cd5f8>,\n",
       " '9': <gensim.models.keyedvectors.Vocab at 0x1a359cd5c0>,\n",
       " 'cut': <gensim.models.keyedvectors.Vocab at 0x1a359cd550>,\n",
       " 'While': <gensim.models.keyedvectors.Vocab at 0x1a359cd4e0>,\n",
       " 'total': <gensim.models.keyedvectors.Vocab at 0x1a359cd470>,\n",
       " 'round': <gensim.models.keyedvectors.Vocab at 0x1a359cd400>,\n",
       " 'young': <gensim.models.keyedvectors.Vocab at 0x1a359cd390>,\n",
       " 'nearly': <gensim.models.keyedvectors.Vocab at 0x1a359cd320>,\n",
       " 'shares': <gensim.models.keyedvectors.Vocab at 0x1a359cd2b0>,\n",
       " 'member': <gensim.models.keyedvectors.Vocab at 0x1a359cd240>,\n",
       " 'campaign': <gensim.models.keyedvectors.Vocab at 0x1a359cd208>,\n",
       " 'media': <gensim.models.keyedvectors.Vocab at 0x1a359cd198>,\n",
       " 'needs': <gensim.models.keyedvectors.Vocab at 0x1a359cd128>,\n",
       " 'why': <gensim.models.keyedvectors.Vocab at 0x1a359cd0b8>,\n",
       " 'house': <gensim.models.keyedvectors.Vocab at 0x1a359cd048>,\n",
       " 'issues': <gensim.models.keyedvectors.Vocab at 0x1a359cc080>,\n",
       " 'costs': <gensim.models.keyedvectors.Vocab at 0x1a359cc0f0>,\n",
       " 'fire': <gensim.models.keyedvectors.Vocab at 0x1a359cc160>,\n",
       " '##-#': <gensim.models.keyedvectors.Vocab at 0x1a359cc1d0>,\n",
       " 'victory': <gensim.models.keyedvectors.Vocab at 0x1a359cc240>,\n",
       " 'player': <gensim.models.keyedvectors.Vocab at 0x1a359cc2b0>,\n",
       " 'began': <gensim.models.keyedvectors.Vocab at 0x1a359cc320>,\n",
       " 'sure': <gensim.models.keyedvectors.Vocab at 0x1a359cc390>,\n",
       " 'story': <gensim.models.keyedvectors.Vocab at 0x1a359cc400>,\n",
       " 'per_cent': <gensim.models.keyedvectors.Vocab at 0x1a359cc438>,\n",
       " 'North': <gensim.models.keyedvectors.Vocab at 0x1a359cc4a8>,\n",
       " 'His': <gensim.models.keyedvectors.Vocab at 0x1a359cc518>,\n",
       " 'staff': <gensim.models.keyedvectors.Vocab at 0x1a359cc588>,\n",
       " 'order': <gensim.models.keyedvectors.Vocab at 0x1a359cc5f8>,\n",
       " 'war': <gensim.models.keyedvectors.Vocab at 0x1a359cc668>,\n",
       " 'large': <gensim.models.keyedvectors.Vocab at 0x1a359cc6d8>,\n",
       " 'interest': <gensim.models.keyedvectors.Vocab at 0x1a359cc710>,\n",
       " 'stock': <gensim.models.keyedvectors.Vocab at 0x1a359cc780>,\n",
       " 'food': <gensim.models.keyedvectors.Vocab at 0x1a359cc7f0>,\n",
       " 'research': <gensim.models.keyedvectors.Vocab at 0x1a359cc828>,\n",
       " 'key': <gensim.models.keyedvectors.Vocab at 0x1a359cc898>,\n",
       " 'India': <gensim.models.keyedvectors.Vocab at 0x1a359cc908>,\n",
       " 'South': <gensim.models.keyedvectors.Vocab at 0x1a359cc978>,\n",
       " 'morning': <gensim.models.keyedvectors.Vocab at 0x1a359cc9e8>,\n",
       " 'conference': <gensim.models.keyedvectors.Vocab at 0x1a359cca20>,\n",
       " 'senior': <gensim.models.keyedvectors.Vocab at 0x1a359cca90>,\n",
       " 'global': <gensim.models.keyedvectors.Vocab at 0x1a359ccb00>,\n",
       " 'Center': <gensim.models.keyedvectors.Vocab at 0x1a359ccb70>,\n",
       " 'death': <gensim.models.keyedvectors.Vocab at 0x1a359ccbe0>,\n",
       " 'person': <gensim.models.keyedvectors.Vocab at 0x1a359ccc50>,\n",
       " 'thought': <gensim.models.keyedvectors.Vocab at 0x1a359cccc0>,\n",
       " 'gave': <gensim.models.keyedvectors.Vocab at 0x1a359ccd30>,\n",
       " 'feel': <gensim.models.keyedvectors.Vocab at 0x1a359ccda0>,\n",
       " 'energy': <gensim.models.keyedvectors.Vocab at 0x1a359cce10>,\n",
       " 'history': <gensim.models.keyedvectors.Vocab at 0x1a359cce80>,\n",
       " 'recently': <gensim.models.keyedvectors.Vocab at 0x1a359cceb8>,\n",
       " 'largest': <gensim.models.keyedvectors.Vocab at 0x1a359ccf28>,\n",
       " 'No.': <gensim.models.keyedvectors.Vocab at 0x1a359ccf98>,\n",
       " 'general': <gensim.models.keyedvectors.Vocab at 0x1a359c9fd0>,\n",
       " 'official': <gensim.models.keyedvectors.Vocab at 0x1a359c9f98>,\n",
       " 'released': <gensim.models.keyedvectors.Vocab at 0x1a359c9f60>,\n",
       " 'wanted': <gensim.models.keyedvectors.Vocab at 0x1a359c9ef0>,\n",
       " 'meet': <gensim.models.keyedvectors.Vocab at 0x1a359c9e80>,\n",
       " 'short': <gensim.models.keyedvectors.Vocab at 0x1a359c9e10>,\n",
       " 'outside': <gensim.models.keyedvectors.Vocab at 0x1a359c9da0>,\n",
       " 'running': <gensim.models.keyedvectors.Vocab at 0x1a359c9d30>,\n",
       " 'live': <gensim.models.keyedvectors.Vocab at 0x1a359c9cc0>,\n",
       " 'ball': <gensim.models.keyedvectors.Vocab at 0x1a359c9c50>,\n",
       " 'online': <gensim.models.keyedvectors.Vocab at 0x1a359c9be0>,\n",
       " 'real': <gensim.models.keyedvectors.Vocab at 0x1a359c9b70>,\n",
       " 'position': <gensim.models.keyedvectors.Vocab at 0x1a359c9b38>,\n",
       " 'fact': <gensim.models.keyedvectors.Vocab at 0x1a359c9ac8>,\n",
       " 'fell': <gensim.models.keyedvectors.Vocab at 0x1a359c9a58>,\n",
       " 'nine': <gensim.models.keyedvectors.Vocab at 0x1a359c99e8>,\n",
       " 'December': <gensim.models.keyedvectors.Vocab at 0x1a359c99b0>,\n",
       " 'front': <gensim.models.keyedvectors.Vocab at 0x1a359c9940>,\n",
       " 'action': <gensim.models.keyedvectors.Vocab at 0x1a359c98d0>,\n",
       " 'defense': <gensim.models.keyedvectors.Vocab at 0x1a359c9860>,\n",
       " 'problem': <gensim.models.keyedvectors.Vocab at 0x1a359c97f0>,\n",
       " 'problems': <gensim.models.keyedvectors.Vocab at 0x1a359c97b8>,\n",
       " 'Mr': <gensim.models.keyedvectors.Vocab at 0x1a359c9748>,\n",
       " 'nation': <gensim.models.keyedvectors.Vocab at 0x1a359c96d8>,\n",
       " 'needed': <gensim.models.keyedvectors.Vocab at 0x1a359c9668>,\n",
       " 'special': <gensim.models.keyedvectors.Vocab at 0x1a359c95f8>,\n",
       " 'January': <gensim.models.keyedvectors.Vocab at 0x1a359c9588>,\n",
       " 'almost': <gensim.models.keyedvectors.Vocab at 0x1a359c9518>,\n",
       " 'chance': <gensim.models.keyedvectors.Vocab at 0x1a359c94a8>,\n",
       " \"'d\": <gensim.models.keyedvectors.Vocab at 0x1a359c9438>,\n",
       " 'result': <gensim.models.keyedvectors.Vocab at 0x1a359c93c8>,\n",
       " 'West': <gensim.models.keyedvectors.Vocab at 0x1a359c9358>,\n",
       " 'September': <gensim.models.keyedvectors.Vocab at 0x1a359c9320>,\n",
       " 'reports': <gensim.models.keyedvectors.Vocab at 0x1a359c92b0>,\n",
       " 'leader': <gensim.models.keyedvectors.Vocab at 0x1a359c9240>,\n",
       " 'investment': <gensim.models.keyedvectors.Vocab at 0x1a359c9208>,\n",
       " 'yesterday': <gensim.models.keyedvectors.Vocab at 0x1a359c91d0>,\n",
       " 'Some': <gensim.models.keyedvectors.Vocab at 0x1a359c9160>,\n",
       " 'leaders': <gensim.models.keyedvectors.Vocab at 0x1a359c90f0>,\n",
       " 'ahead': <gensim.models.keyedvectors.Vocab at 0x1a359c9080>,\n",
       " 'production': <gensim.models.keyedvectors.Vocab at 0x1a359c9048>,\n",
       " 'comes': <gensim.models.keyedvectors.Vocab at 0x1a359c4080>,\n",
       " 'No': <gensim.models.keyedvectors.Vocab at 0x1a359c40f0>,\n",
       " 'runs': <gensim.models.keyedvectors.Vocab at 0x1a359c4160>,\n",
       " 'match': <gensim.models.keyedvectors.Vocab at 0x1a359c41d0>,\n",
       " 'role': <gensim.models.keyedvectors.Vocab at 0x1a359c4240>,\n",
       " 'kind': <gensim.models.keyedvectors.Vocab at 0x1a359c42b0>,\n",
       " 'try': <gensim.models.keyedvectors.Vocab at 0x1a359c4320>,\n",
       " 'ended': <gensim.models.keyedvectors.Vocab at 0x1a359c4390>,\n",
       " 'risk': <gensim.models.keyedvectors.Vocab at 0x1a359c4400>,\n",
       " 'areas': <gensim.models.keyedvectors.Vocab at 0x1a359c4470>,\n",
       " 'election': <gensim.models.keyedvectors.Vocab at 0x1a359c44a8>,\n",
       " 'workers': <gensim.models.keyedvectors.Vocab at 0x1a359c4518>,\n",
       " 'visit': <gensim.models.keyedvectors.Vocab at 0x1a359c4588>,\n",
       " 'bring': <gensim.models.keyedvectors.Vocab at 0x1a359c45f8>,\n",
       " 'road': <gensim.models.keyedvectors.Vocab at 0x1a359c4668>,\n",
       " 'music': <gensim.models.keyedvectors.Vocab at 0x1a359c46d8>,\n",
       " 'study': <gensim.models.keyedvectors.Vocab at 0x1a359c4748>,\n",
       " 'makes': <gensim.models.keyedvectors.Vocab at 0x1a359c47b8>,\n",
       " 'often': <gensim.models.keyedvectors.Vocab at 0x1a359c4828>,\n",
       " 'release': <gensim.models.keyedvectors.Vocab at 0x1a359c4898>,\n",
       " 'woman': <gensim.models.keyedvectors.Vocab at 0x1a359c4908>,\n",
       " 'vote': <gensim.models.keyedvectors.Vocab at 0x1a359c4978>,\n",
       " 'care': <gensim.models.keyedvectors.Vocab at 0x1a359c49e8>,\n",
       " 'town': <gensim.models.keyedvectors.Vocab at 0x1a359c4a58>,\n",
       " 'clear': <gensim.models.keyedvectors.Vocab at 0x1a359c4ac8>,\n",
       " 'comment': <gensim.models.keyedvectors.Vocab at 0x1a359c4b38>,\n",
       " 'budget': <gensim.models.keyedvectors.Vocab at 0x1a359c4ba8>,\n",
       " 'potential': <gensim.models.keyedvectors.Vocab at 0x1a359c4be0>,\n",
       " 'single': <gensim.models.keyedvectors.Vocab at 0x1a359c4c50>,\n",
       " 'markets': <gensim.models.keyedvectors.Vocab at 0x1a359c4cc0>,\n",
       " 'policy': <gensim.models.keyedvectors.Vocab at 0x1a359c4d30>,\n",
       " 'capital': <gensim.models.keyedvectors.Vocab at 0x1a359c4da0>,\n",
       " 'saw': <gensim.models.keyedvectors.Vocab at 0x1a359c4e10>,\n",
       " 'access': <gensim.models.keyedvectors.Vocab at 0x1a359c4e80>,\n",
       " 'weekend': <gensim.models.keyedvectors.Vocab at 0x1a359c4ef0>,\n",
       " 'operations': <gensim.models.keyedvectors.Vocab at 0x1a359c4f28>,\n",
       " 'whose': <gensim.models.keyedvectors.Vocab at 0x1a359c4f98>,\n",
       " 'net': <gensim.models.keyedvectors.Vocab at 0x1a359c2fd0>,\n",
       " 'House': <gensim.models.keyedvectors.Vocab at 0x1a359c2f60>,\n",
       " 'hand': <gensim.models.keyedvectors.Vocab at 0x1a359c2ef0>,\n",
       " 'increased': <gensim.models.keyedvectors.Vocab at 0x1a359c2eb8>,\n",
       " 'charges': <gensim.models.keyedvectors.Vocab at 0x1a359c2e48>,\n",
       " 'winning': <gensim.models.keyedvectors.Vocab at 0x1a359c2dd8>,\n",
       " 'trade': <gensim.models.keyedvectors.Vocab at 0x1a359c2d68>,\n",
       " 'These': <gensim.models.keyedvectors.Vocab at 0x1a359c2cf8>,\n",
       " 'income': <gensim.models.keyedvectors.Vocab at 0x1a359c2c88>,\n",
       " 'value': <gensim.models.keyedvectors.Vocab at 0x1a359c2c18>,\n",
       " 'involved': <gensim.models.keyedvectors.Vocab at 0x1a359c2be0>,\n",
       " 'Bank': <gensim.models.keyedvectors.Vocab at 0x1a359c2b70>,\n",
       " 'November': <gensim.models.keyedvectors.Vocab at 0x1a359c2b38>,\n",
       " 'bill': <gensim.models.keyedvectors.Vocab at 0x1a359c2ac8>,\n",
       " 'compared': <gensim.models.keyedvectors.Vocab at 0x1a359c2a90>,\n",
       " 'anything': <gensim.models.keyedvectors.Vocab at 0x1a359c2a58>,\n",
       " 'manager': <gensim.models.keyedvectors.Vocab at 0x1a359c29e8>,\n",
       " 'Texas': <gensim.models.keyedvectors.Vocab at 0x1a359c2978>,\n",
       " 'property': <gensim.models.keyedvectors.Vocab at 0x1a359c2940>,\n",
       " 'stop': <gensim.models.keyedvectors.Vocab at 0x1a359c28d0>,\n",
       " 'annual': <gensim.models.keyedvectors.Vocab at 0x1a359c2860>,\n",
       " 'private': <gensim.models.keyedvectors.Vocab at 0x1a359c27f0>,\n",
       " 'contract': <gensim.models.keyedvectors.Vocab at 0x1a359c27b8>,\n",
       " 'died': <gensim.models.keyedvectors.Vocab at 0x1a359c2748>,\n",
       " 'Now': <gensim.models.keyedvectors.Vocab at 0x1a359c26d8>,\n",
       " 'hope': <gensim.models.keyedvectors.Vocab at 0x1a359c2668>,\n",
       " 'product': <gensim.models.keyedvectors.Vocab at 0x1a359c25f8>,\n",
       " 'fans': <gensim.models.keyedvectors.Vocab at 0x1a359c2588>,\n",
       " 'lower': <gensim.models.keyedvectors.Vocab at 0x1a359c2518>,\n",
       " 'demand': <gensim.models.keyedvectors.Vocab at 0x1a359c24a8>,\n",
       " 'News': <gensim.models.keyedvectors.Vocab at 0x1a359c2438>,\n",
       " 'David': <gensim.models.keyedvectors.Vocab at 0x1a359c23c8>,\n",
       " 'club': <gensim.models.keyedvectors.Vocab at 0x1a359c2358>,\n",
       " 'comments': <gensim.models.keyedvectors.Vocab at 0x1a359c2320>,\n",
       " 'film': <gensim.models.keyedvectors.Vocab at 0x1a359c22b0>,\n",
       " 'yards': <gensim.models.keyedvectors.Vocab at 0x1a359c2240>,\n",
       " 'quality': <gensim.models.keyedvectors.Vocab at 0x1a359c21d0>,\n",
       " 'currently': <gensim.models.keyedvectors.Vocab at 0x1a359c2198>,\n",
       " 'events': <gensim.models.keyedvectors.Vocab at 0x1a359c2128>,\n",
       " 'addition': <gensim.models.keyedvectors.Vocab at 0x1a359c20f0>,\n",
       " 'couple': <gensim.models.keyedvectors.Vocab at 0x1a359c2080>,\n",
       " 'schools': <gensim.models.keyedvectors.Vocab at 0x1a359fe048>,\n",
       " 'attack': <gensim.models.keyedvectors.Vocab at 0x1a359fe0b8>,\n",
       " 'region': <gensim.models.keyedvectors.Vocab at 0x1a359fe128>,\n",
       " 'latest': <gensim.models.keyedvectors.Vocab at 0x1a359fe198>,\n",
       " 'opportunity': <gensim.models.keyedvectors.Vocab at 0x1a359fe1d0>,\n",
       " 'worked': <gensim.models.keyedvectors.Vocab at 0x1a359fe240>,\n",
       " 'course': <gensim.models.keyedvectors.Vocab at 0x1a359fe2b0>,\n",
       " 'bad': <gensim.models.keyedvectors.Vocab at 0x1a359fe320>,\n",
       " 'fall': <gensim.models.keyedvectors.Vocab at 0x1a359fe390>,\n",
       " 'Group': <gensim.models.keyedvectors.Vocab at 0x1a359fe400>,\n",
       " 'October': <gensim.models.keyedvectors.Vocab at 0x1a359fe470>,\n",
       " 'jobs': <gensim.models.keyedvectors.Vocab at 0x1a359fe4e0>,\n",
       " 'list': <gensim.models.keyedvectors.Vocab at 0x1a359fe550>,\n",
       " 'let': <gensim.models.keyedvectors.Vocab at 0x1a359fe5c0>,\n",
       " 'however': <gensim.models.keyedvectors.Vocab at 0x1a359fe630>,\n",
       " 'chief': <gensim.models.keyedvectors.Vocab at 0x1a359fe6a0>,\n",
       " 'summer': <gensim.models.keyedvectors.Vocab at 0x1a359fe710>,\n",
       " 'programs': <gensim.models.keyedvectors.Vocab at 0x1a359fe748>,\n",
       " 'According': <gensim.models.keyedvectors.Vocab at 0x1a359fe780>,\n",
       " 'revenue': <gensim.models.keyedvectors.Vocab at 0x1a359fe7f0>,\n",
       " 'Our': <gensim.models.keyedvectors.Vocab at 0x1a359fe860>,\n",
       " 'rose': <gensim.models.keyedvectors.Vocab at 0x1a359fe8d0>,\n",
       " 'previous': <gensim.models.keyedvectors.Vocab at 0x1a359fe908>,\n",
       " 'TV': <gensim.models.keyedvectors.Vocab at 0x1a359fe978>,\n",
       " 'football': <gensim.models.keyedvectors.Vocab at 0x1a359fe9b0>,\n",
       " 'biggest': <gensim.models.keyedvectors.Vocab at 0x1a359fea20>,\n",
       " 'employees': <gensim.models.keyedvectors.Vocab at 0x1a359fea58>,\n",
       " 'changes': <gensim.models.keyedvectors.Vocab at 0x1a359feac8>,\n",
       " 'residents': <gensim.models.keyedvectors.Vocab at 0x1a359feb00>,\n",
       " 'means': <gensim.models.keyedvectors.Vocab at 0x1a359feb70>,\n",
       " 'agreement': <gensim.models.keyedvectors.Vocab at 0x1a359feba8>,\n",
       " 'includes': <gensim.models.keyedvectors.Vocab at 0x1a359febe0>,\n",
       " 'post': <gensim.models.keyedvectors.Vocab at 0x1a359fec50>,\n",
       " 'Canada': <gensim.models.keyedvectors.Vocab at 0x1a359fecc0>,\n",
       " 'probably': <gensim.models.keyedvectors.Vocab at 0x1a359fecf8>,\n",
       " 'related': <gensim.models.keyedvectors.Vocab at 0x1a359fed68>,\n",
       " 'training': <gensim.models.keyedvectors.Vocab at 0x1a359feda0>,\n",
       " 'allowed': <gensim.models.keyedvectors.Vocab at 0x1a359fee10>,\n",
       " 'class': <gensim.models.keyedvectors.Vocab at 0x1a359fee80>,\n",
       " 'bit': <gensim.models.keyedvectors.Vocab at 0x1a359feef0>,\n",
       " 'video': <gensim.models.keyedvectors.Vocab at 0x1a359fef60>,\n",
       " 'Michael': <gensim.models.keyedvectors.Vocab at 0x1a359fefd0>,\n",
       " 'An': <gensim.models.keyedvectors.Vocab at 0x1a359fc080>,\n",
       " 'sent': <gensim.models.keyedvectors.Vocab at 0x1a359fc0f0>,\n",
       " 'education': <gensim.models.keyedvectors.Vocab at 0x1a359fc128>,\n",
       " 'states': <gensim.models.keyedvectors.Vocab at 0x1a359fc198>,\n",
       " 'straight': <gensim.models.keyedvectors.Vocab at 0x1a359fc1d0>,\n",
       " 'love': <gensim.models.keyedvectors.Vocab at 0x1a359fc240>,\n",
       " 'beat': <gensim.models.keyedvectors.Vocab at 0x1a359fc2b0>,\n",
       " 'hold': <gensim.models.keyedvectors.Vocab at 0x1a359fc320>,\n",
       " 'turn': <gensim.models.keyedvectors.Vocab at 0x1a359fc390>,\n",
       " 'finished': <gensim.models.keyedvectors.Vocab at 0x1a359fc3c8>,\n",
       " 'network': <gensim.models.keyedvectors.Vocab at 0x1a359fc438>,\n",
       " 'Smith': <gensim.models.keyedvectors.Vocab at 0x1a359fc4a8>,\n",
       " 'buy': <gensim.models.keyedvectors.Vocab at 0x1a359fc518>,\n",
       " 'foreign': <gensim.models.keyedvectors.Vocab at 0x1a359fc588>,\n",
       " 'especially': <gensim.models.keyedvectors.Vocab at 0x1a359fc5c0>,\n",
       " 'groups': <gensim.models.keyedvectors.Vocab at 0x1a359fc630>,\n",
       " 'wants': <gensim.models.keyedvectors.Vocab at 0x1a359fc6a0>,\n",
       " 'title': <gensim.models.keyedvectors.Vocab at 0x1a359fc710>,\n",
       " 'included': <gensim.models.keyedvectors.Vocab at 0x1a359fc748>,\n",
       " 'turned': <gensim.models.keyedvectors.Vocab at 0x1a359fc7b8>,\n",
       " 'bank': <gensim.models.keyedvectors.Vocab at 0x1a359fc828>,\n",
       " 'Florida': <gensim.models.keyedvectors.Vocab at 0x1a359fc898>,\n",
       " 'efforts': <gensim.models.keyedvectors.Vocab at 0x1a359fc908>,\n",
       " 'personal': <gensim.models.keyedvectors.Vocab at 0x1a359fc940>,\n",
       " 'businesses': <gensim.models.keyedvectors.Vocab at 0x1a359fc978>,\n",
       " 'August': <gensim.models.keyedvectors.Vocab at 0x1a359fc9e8>,\n",
       " 'California': <gensim.models.keyedvectors.Vocab at 0x1a359fca20>,\n",
       " 'situation': <gensim.models.keyedvectors.Vocab at 0x1a359fca58>,\n",
       " 'district': <gensim.models.keyedvectors.Vocab at 0x1a359fca90>,\n",
       " 'allow': <gensim.models.keyedvectors.Vocab at 0x1a359fcb00>,\n",
       " 'helped': <gensim.models.keyedvectors.Vocab at 0x1a359fcb70>,\n",
       " 'body': <gensim.models.keyedvectors.Vocab at 0x1a359fcbe0>,\n",
       " 'nothing': <gensim.models.keyedvectors.Vocab at 0x1a359fcc50>,\n",
       " 'soon': <gensim.models.keyedvectors.Vocab at 0x1a359fccc0>,\n",
       " 'safety': <gensim.models.keyedvectors.Vocab at 0x1a359fcd30>,\n",
       " 'officer': <gensim.models.keyedvectors.Vocab at 0x1a359fcda0>,\n",
       " 'cents': <gensim.models.keyedvectors.Vocab at 0x1a359fce10>,\n",
       " 'Europe': <gensim.models.keyedvectors.Vocab at 0x1a359fce80>,\n",
       " 'St.': <gensim.models.keyedvectors.Vocab at 0x1a359fcef0>,\n",
       " 'additional': <gensim.models.keyedvectors.Vocab at 0x1a359fcf28>,\n",
       " 'spokesman': <gensim.models.keyedvectors.Vocab at 0x1a359fcf60>,\n",
       " 'February': <gensim.models.keyedvectors.Vocab at 0x1a359fcf98>,\n",
       " 'wife': <gensim.models.keyedvectors.Vocab at 0x1a359f9048>,\n",
       " 'showed': <gensim.models.keyedvectors.Vocab at 0x1a359f90b8>,\n",
       " 'leave': <gensim.models.keyedvectors.Vocab at 0x1a359f9128>,\n",
       " 'investors': <gensim.models.keyedvectors.Vocab at 0x1a359f9160>,\n",
       " 'parents': <gensim.models.keyedvectors.Vocab at 0x1a359f91d0>,\n",
       " 'medical': <gensim.models.keyedvectors.Vocab at 0x1a359f9240>,\n",
       " 'spending': <gensim.models.keyedvectors.Vocab at 0x1a359f9278>,\n",
       " 'non': <gensim.models.keyedvectors.Vocab at 0x1a359f92e8>,\n",
       " 'London': <gensim.models.keyedvectors.Vocab at 0x1a359f9358>,\n",
       " 'Council': <gensim.models.keyedvectors.Vocab at 0x1a359f93c8>,\n",
       " 'matter': <gensim.models.keyedvectors.Vocab at 0x1a359f9438>,\n",
       " 'spent': <gensim.models.keyedvectors.Vocab at 0x1a359f94a8>,\n",
       " 'child': <gensim.models.keyedvectors.Vocab at 0x1a359f9518>,\n",
       " 'World': <gensim.models.keyedvectors.Vocab at 0x1a359f9588>,\n",
       " 'effort': <gensim.models.keyedvectors.Vocab at 0x1a359f95f8>,\n",
       " 'opening': <gensim.models.keyedvectors.Vocab at 0x1a359f9668>,\n",
       " 'either': <gensim.models.keyedvectors.Vocab at 0x1a359f96d8>,\n",
       " 'range': <gensim.models.keyedvectors.Vocab at 0x1a359f9748>,\n",
       " 'question': <gensim.models.keyedvectors.Vocab at 0x1a359f9780>,\n",
       " 'European': <gensim.models.keyedvectors.Vocab at 0x1a359f97b8>,\n",
       " 'goals': <gensim.models.keyedvectors.Vocab at 0x1a359f9828>,\n",
       " 'administration': <gensim.models.keyedvectors.Vocab at 0x1a359f9860>,\n",
       " 'friends': <gensim.models.keyedvectors.Vocab at 0x1a359f98d0>,\n",
       " 'himself': <gensim.models.keyedvectors.Vocab at 0x1a359f9940>,\n",
       " 'shows': <gensim.models.keyedvectors.Vocab at 0x1a359f99b0>,\n",
       " 'difficult': <gensim.models.keyedvectors.Vocab at 0x1a359f99e8>,\n",
       " 'kids': <gensim.models.keyedvectors.Vocab at 0x1a359f9a58>,\n",
       " 'paid': <gensim.models.keyedvectors.Vocab at 0x1a359f9ac8>,\n",
       " 'create': <gensim.models.keyedvectors.Vocab at 0x1a359f9b38>,\n",
       " 'cash': <gensim.models.keyedvectors.Vocab at 0x1a359f9ba8>,\n",
       " 'age': <gensim.models.keyedvectors.Vocab at 0x1a359f9c18>,\n",
       " 'league': <gensim.models.keyedvectors.Vocab at 0x1a359f9c88>,\n",
       " 'form': <gensim.models.keyedvectors.Vocab at 0x1a359f9cf8>,\n",
       " 'impact': <gensim.models.keyedvectors.Vocab at 0x1a359f9d68>,\n",
       " 'drive': <gensim.models.keyedvectors.Vocab at 0x1a359f9dd8>,\n",
       " 'someone': <gensim.models.keyedvectors.Vocab at 0x1a359f9e48>,\n",
       " 'became': <gensim.models.keyedvectors.Vocab at 0x1a359f9eb8>,\n",
       " 'stay': <gensim.models.keyedvectors.Vocab at 0x1a359f9f28>,\n",
       " 'fight': <gensim.models.keyedvectors.Vocab at 0x1a359f9f98>,\n",
       " 'significant': <gensim.models.keyedvectors.Vocab at 0x1a359f9fd0>,\n",
       " 'firm': <gensim.models.keyedvectors.Vocab at 0x1a359f5080>,\n",
       " 'Senate': <gensim.models.keyedvectors.Vocab at 0x1a359f50f0>,\n",
       " 'hospital': <gensim.models.keyedvectors.Vocab at 0x1a359f5128>,\n",
       " 'charged': <gensim.models.keyedvectors.Vocab at 0x1a359f5198>,\n",
       " 'operating': <gensim.models.keyedvectors.Vocab at 0x1a359f51d0>,\n",
       " 'main': <gensim.models.keyedvectors.Vocab at 0x1a359f5240>,\n",
       " 'book': <gensim.models.keyedvectors.Vocab at 0x1a359f52b0>,\n",
       " 'success': <gensim.models.keyedvectors.Vocab at 0x1a359f5320>,\n",
       " 'son': <gensim.models.keyedvectors.Vocab at 0x1a359f5390>,\n",
       " 'trading': <gensim.models.keyedvectors.Vocab at 0x1a359f5400>,\n",
       " '###-####': <gensim.models.keyedvectors.Vocab at 0x1a359f5438>,\n",
       " 'focus': <gensim.models.keyedvectors.Vocab at 0x1a359f54a8>,\n",
       " 'room': <gensim.models.keyedvectors.Vocab at 0x1a359f5518>,\n",
       " 'continued': <gensim.models.keyedvectors.Vocab at 0x1a359f5550>,\n",
       " 'Congress': <gensim.models.keyedvectors.Vocab at 0x1a359f5588>,\n",
       " 'everything': <gensim.models.keyedvectors.Vocab at 0x1a359f55c0>,\n",
       " 'Park': <gensim.models.keyedvectors.Vocab at 0x1a359f5630>,\n",
       " 'agency': <gensim.models.keyedvectors.Vocab at 0x1a359f56a0>,\n",
       " 'brought': <gensim.models.keyedvectors.Vocab at 0x1a359f5710>,\n",
       " 'talk': <gensim.models.keyedvectors.Vocab at 0x1a359f5780>,\n",
       " 'break': <gensim.models.keyedvectors.Vocab at 0x1a359f57f0>,\n",
       " 'air': <gensim.models.keyedvectors.Vocab at 0x1a359f5860>,\n",
       " 'software': <gensim.models.keyedvectors.Vocab at 0x1a359f5898>,\n",
       " 'decided': <gensim.models.keyedvectors.Vocab at 0x1a359f5908>,\n",
       " 'Do': <gensim.models.keyedvectors.Vocab at 0x1a359f5978>,\n",
       " 'ready': <gensim.models.keyedvectors.Vocab at 0x1a359f59e8>,\n",
       " 'arrested': <gensim.models.keyedvectors.Vocab at 0x1a359f5a20>,\n",
       " 'track': <gensim.models.keyedvectors.Vocab at 0x1a359f5a90>,\n",
       " 'provides': <gensim.models.keyedvectors.Vocab at 0x1a359f5ac8>,\n",
       " 'mother': <gensim.models.keyedvectors.Vocab at 0x1a359f5b38>,\n",
       " 'base': <gensim.models.keyedvectors.Vocab at 0x1a359f5ba8>,\n",
       " 'trial': <gensim.models.keyedvectors.Vocab at 0x1a359f5c18>,\n",
       " 'phone': <gensim.models.keyedvectors.Vocab at 0x1a359f5c88>,\n",
       " 'My': <gensim.models.keyedvectors.Vocab at 0x1a359f5cf8>,\n",
       " 'build': <gensim.models.keyedvectors.Vocab at 0x1a359f5d68>,\n",
       " 'conditions': <gensim.models.keyedvectors.Vocab at 0x1a359f5da0>,\n",
       " 'rest': <gensim.models.keyedvectors.Vocab at 0x1a359f5e10>,\n",
       " 'Johnson': <gensim.models.keyedvectors.Vocab at 0x1a359f5e80>,\n",
       " 'terms': <gensim.models.keyedvectors.Vocab at 0x1a359f5ef0>,\n",
       " 'expect': <gensim.models.keyedvectors.Vocab at 0x1a359f5f60>,\n",
       " 'England': <gensim.models.keyedvectors.Vocab at 0x1a359f5fd0>,\n",
       " 'Israel': <gensim.models.keyedvectors.Vocab at 0x1a359f4080>,\n",
       " 'despite': <gensim.models.keyedvectors.Vocab at 0x1a359f40f0>,\n",
       " 'closed': <gensim.models.keyedvectors.Vocab at 0x1a359f4160>,\n",
       " 'starting': <gensim.models.keyedvectors.Vocab at 0x1a359f4198>,\n",
       " 'provided': <gensim.models.keyedvectors.Vocab at 0x1a359f41d0>,\n",
       " 'pressure': <gensim.models.keyedvectors.Vocab at 0x1a359f4208>,\n",
       " 'lives': <gensim.models.keyedvectors.Vocab at 0x1a359f4278>,\n",
       " 'step': <gensim.models.keyedvectors.Vocab at 0x1a359f42e8>,\n",
       " 'remain': <gensim.models.keyedvectors.Vocab at 0x1a359f4358>,\n",
       " 'similar': <gensim.models.keyedvectors.Vocab at 0x1a359f43c8>,\n",
       " 'charge': <gensim.models.keyedvectors.Vocab at 0x1a359f4438>,\n",
       " 'date': <gensim.models.keyedvectors.Vocab at 0x1a359f44a8>,\n",
       " 'whole': <gensim.models.keyedvectors.Vocab at 0x1a359f4518>,\n",
       " 'land': <gensim.models.keyedvectors.Vocab at 0x1a359f4588>,\n",
       " 'growing': <gensim.models.keyedvectors.Vocab at 0x1a359f45f8>,\n",
       " 'James': <gensim.models.keyedvectors.Vocab at 0x1a359f4668>,\n",
       " 'Internet': <gensim.models.keyedvectors.Vocab at 0x1a359f46a0>,\n",
       " 'projects': <gensim.models.keyedvectors.Vocab at 0x1a359f46d8>,\n",
       " 'British': <gensim.models.keyedvectors.Vocab at 0x1a359f4748>,\n",
       " 'cases': <gensim.models.keyedvectors.Vocab at 0x1a359f47b8>,\n",
       " 'ground': <gensim.models.keyedvectors.Vocab at 0x1a359f4828>,\n",
       " 'legal': <gensim.models.keyedvectors.Vocab at 0x1a359f4898>,\n",
       " 'International': <gensim.models.keyedvectors.Vocab at 0x1a359f48d0>,\n",
       " 'agreed': <gensim.models.keyedvectors.Vocab at 0x1a359f4940>,\n",
       " 'tell': <gensim.models.keyedvectors.Vocab at 0x1a359f49b0>,\n",
       " 'test': <gensim.models.keyedvectors.Vocab at 0x1a359f4a20>,\n",
       " 'everyone': <gensim.models.keyedvectors.Vocab at 0x1a359f4a58>,\n",
       " 'pretty': <gensim.models.keyedvectors.Vocab at 0x1a359f4ac8>,\n",
       " 'authorities': <gensim.models.keyedvectors.Vocab at 0x1a359f4b00>,\n",
       " 'Two': <gensim.models.keyedvectors.Vocab at 0x1a359f4b70>,\n",
       " 'above': <gensim.models.keyedvectors.Vocab at 0x1a359f4be0>,\n",
       " 'moved': <gensim.models.keyedvectors.Vocab at 0x1a359f4c50>,\n",
       " 'profit': <gensim.models.keyedvectors.Vocab at 0x1a359f4cc0>,\n",
       " 'throughout': <gensim.models.keyedvectors.Vocab at 0x1a359f4cf8>,\n",
       " 'inside': <gensim.models.keyedvectors.Vocab at 0x1a359f4d68>,\n",
       " 'ability': <gensim.models.keyedvectors.Vocab at 0x1a359f4dd8>,\n",
       " 'overall': <gensim.models.keyedvectors.Vocab at 0x1a359f4e48>,\n",
       " 'pass': <gensim.models.keyedvectors.Vocab at 0x1a359f4eb8>,\n",
       " 'officers': <gensim.models.keyedvectors.Vocab at 0x1a359f4ef0>,\n",
       " 'rather': <gensim.models.keyedvectors.Vocab at 0x1a359f4f60>,\n",
       " 'Australia': <gensim.models.keyedvectors.Vocab at 0x1a359f4f98>,\n",
       " 'actually': <gensim.models.keyedvectors.Vocab at 0x1a359f4fd0>,\n",
       " 'county': <gensim.models.keyedvectors.Vocab at 0x1a359f0080>,\n",
       " 'amount': <gensim.models.keyedvectors.Vocab at 0x1a359f00f0>,\n",
       " 'scheduled': <gensim.models.keyedvectors.Vocab at 0x1a359f0128>,\n",
       " 'themselves': <gensim.models.keyedvectors.Vocab at 0x1a359f0160>,\n",
       " 'organization': <gensim.models.keyedvectors.Vocab at 0x1a359f0198>,\n",
       " 'giving': <gensim.models.keyedvectors.Vocab at 0x1a359f0208>,\n",
       " 'credit': <gensim.models.keyedvectors.Vocab at 0x1a359f0278>,\n",
       " 'father': <gensim.models.keyedvectors.Vocab at 0x1a359f02e8>,\n",
       " 'drug': <gensim.models.keyedvectors.Vocab at 0x1a359f0358>,\n",
       " 'investigation': <gensim.models.keyedvectors.Vocab at 0x1a359f0390>,\n",
       " 'families': <gensim.models.keyedvectors.Vocab at 0x1a359f03c8>,\n",
       " 'Republican': <gensim.models.keyedvectors.Vocab at 0x1a359f0400>,\n",
       " 'funds': <gensim.models.keyedvectors.Vocab at 0x1a359f0470>,\n",
       " 'patients': <gensim.models.keyedvectors.Vocab at 0x1a359f04a8>,\n",
       " 'takes': <gensim.models.keyedvectors.Vocab at 0x1a359f0518>,\n",
       " 'systems': <gensim.models.keyedvectors.Vocab at 0x1a359f0588>,\n",
       " 'Japan': <gensim.models.keyedvectors.Vocab at 0x1a359f05f8>,\n",
       " 'complete': <gensim.models.keyedvectors.Vocab at 0x1a359f0630>,\n",
       " 'sold': <gensim.models.keyedvectors.Vocab at 0x1a359f06a0>,\n",
       " 'practice': <gensim.models.keyedvectors.Vocab at 0x1a359f06d8>,\n",
       " 'calls': <gensim.models.keyedvectors.Vocab at 0x1a359f0748>,\n",
       " '•': <gensim.models.keyedvectors.Vocab at 0x1a359f0780>,\n",
       " 'UK': <gensim.models.keyedvectors.Vocab at 0x1a359f07f0>,\n",
       " 'force': <gensim.models.keyedvectors.Vocab at 0x1a359f0860>,\n",
       " 'student': <gensim.models.keyedvectors.Vocab at 0x1a359f08d0>,\n",
       " 'idea': <gensim.models.keyedvectors.Vocab at 0x1a359f0940>,\n",
       " 'reached': <gensim.models.keyedvectors.Vocab at 0x1a359f09b0>,\n",
       " 'reason': <gensim.models.keyedvectors.Vocab at 0x1a359f0a20>,\n",
       " 'levels': <gensim.models.keyedvectors.Vocab at 0x1a359f0a90>,\n",
       " 'space': <gensim.models.keyedvectors.Vocab at 0x1a359f0b00>,\n",
       " 'competition': <gensim.models.keyedvectors.Vocab at 0x1a359f0b38>,\n",
       " 'forces': <gensim.models.keyedvectors.Vocab at 0x1a359f0ba8>,\n",
       " 'sector': <gensim.models.keyedvectors.Vocab at 0x1a359f0c18>,\n",
       " 'Last': <gensim.models.keyedvectors.Vocab at 0x1a359f0c88>,\n",
       " 'tried': <gensim.models.keyedvectors.Vocab at 0x1a359f0cf8>,\n",
       " 'common': <gensim.models.keyedvectors.Vocab at 0x1a359f0d68>,\n",
       " 'homes': <gensim.models.keyedvectors.Vocab at 0x1a359f0dd8>,\n",
       " 'stage': <gensim.models.keyedvectors.Vocab at 0x1a359f0e48>,\n",
       " 'department': <gensim.models.keyedvectors.Vocab at 0x1a359f0e80>,\n",
       " 'named': <gensim.models.keyedvectors.Vocab at 0x1a359f0ef0>,\n",
       " 'earnings': <gensim.models.keyedvectors.Vocab at 0x1a359f0f28>,\n",
       " 'offers': <gensim.models.keyedvectors.Vocab at 0x1a359f0f98>,\n",
       " 'star': <gensim.models.keyedvectors.Vocab at 0x1a359ec048>,\n",
       " 'certain': <gensim.models.keyedvectors.Vocab at 0x1a359ec0b8>,\n",
       " 'double': <gensim.models.keyedvectors.Vocab at 0x1a359ec128>,\n",
       " 'longer': <gensim.models.keyedvectors.Vocab at 0x1a359ec198>,\n",
       " 'followed': <gensim.models.keyedvectors.Vocab at 0x1a359ec1d0>,\n",
       " 'cause': <gensim.models.keyedvectors.Vocab at 0x1a359ec240>,\n",
       " 'Association': <gensim.models.keyedvectors.Vocab at 0x1a359ec278>,\n",
       " 'signed': <gensim.models.keyedvectors.Vocab at 0x1a359ec2e8>,\n",
       " 'committee': <gensim.models.keyedvectors.Vocab at 0x1a359ec320>,\n",
       " 'hour': <gensim.models.keyedvectors.Vocab at 0x1a359ec390>,\n",
       " 'college': <gensim.models.keyedvectors.Vocab at 0x1a359ec400>,\n",
       " 'Pakistan': <gensim.models.keyedvectors.Vocab at 0x1a359ec438>,\n",
       " 'users': <gensim.models.keyedvectors.Vocab at 0x1a359ec4a8>,\n",
       " 'Iran': <gensim.models.keyedvectors.Vocab at 0x1a359ec518>,\n",
       " 'sign': <gensim.models.keyedvectors.Vocab at 0x1a359ec588>,\n",
       " 'living': <gensim.models.keyedvectors.Vocab at 0x1a359ec5f8>,\n",
       " 'failed': <gensim.models.keyedvectors.Vocab at 0x1a359ec668>,\n",
       " 'reach': <gensim.models.keyedvectors.Vocab at 0x1a359ec6d8>,\n",
       " 'quickly': <gensim.models.keyedvectors.Vocab at 0x1a359ec748>,\n",
       " 'receive': <gensim.models.keyedvectors.Vocab at 0x1a359ec7b8>,\n",
       " 'debt': <gensim.models.keyedvectors.Vocab at 0x1a359ec828>,\n",
       " 'sale': <gensim.models.keyedvectors.Vocab at 0x1a359ec898>,\n",
       " 'Board': <gensim.models.keyedvectors.Vocab at 0x1a359ec908>,\n",
       " 'Americans': <gensim.models.keyedvectors.Vocab at 0x1a359ec940>,\n",
       " 'Road': <gensim.models.keyedvectors.Vocab at 0x1a359ec9b0>,\n",
       " 'Brown': <gensim.models.keyedvectors.Vocab at 0x1a359eca20>,\n",
       " 'insurance': <gensim.models.keyedvectors.Vocab at 0x1a359eca58>,\n",
       " '##:##': <gensim.models.keyedvectors.Vocab at 0x1a359ecac8>,\n",
       " 'anyone': <gensim.models.keyedvectors.Vocab at 0x1a359ecb38>,\n",
       " 'tournament': <gensim.models.keyedvectors.Vocab at 0x1a359ecb70>,\n",
       " 'More': <gensim.models.keyedvectors.Vocab at 0x1a359ecbe0>,\n",
       " 'gas': <gensim.models.keyedvectors.Vocab at 0x1a359ecc50>,\n",
       " 'talks': <gensim.models.keyedvectors.Vocab at 0x1a359eccc0>,\n",
       " 'serious': <gensim.models.keyedvectors.Vocab at 0x1a359ecd30>,\n",
       " 'required': <gensim.models.keyedvectors.Vocab at 0x1a359ecd68>,\n",
       " 'sell': <gensim.models.keyedvectors.Vocab at 0x1a359ecdd8>,\n",
       " 'construction': <gensim.models.keyedvectors.Vocab at 0x1a359ece10>,\n",
       " 'evidence': <gensim.models.keyedvectors.Vocab at 0x1a359ece48>,\n",
       " 'remains': <gensim.models.keyedvectors.Vocab at 0x1a359eceb8>,\n",
       " 'black': <gensim.models.keyedvectors.Vocab at 0x1a359ecf28>,\n",
       " 'below': <gensim.models.keyedvectors.Vocab at 0x1a359ecf98>,\n",
       " 'improve': <gensim.models.keyedvectors.Vocab at 0x1a359ea048>,\n",
       " 'crisis': <gensim.models.keyedvectors.Vocab at 0x1a359ea0b8>,\n",
       " 'address': <gensim.models.keyedvectors.Vocab at 0x1a359ea128>,\n",
       " 'questions': <gensim.models.keyedvectors.Vocab at 0x1a359ea160>,\n",
       " 'easy': <gensim.models.keyedvectors.Vocab at 0x1a359ea1d0>,\n",
       " 'begin': <gensim.models.keyedvectors.Vocab at 0x1a359ea240>,\n",
       " 'view': <gensim.models.keyedvectors.Vocab at 0x1a359ea2b0>,\n",
       " 'School': <gensim.models.keyedvectors.Vocab at 0x1a359ea320>,\n",
       " 'heard': <gensim.models.keyedvectors.Vocab at 0x1a359ea390>,\n",
       " 'executive': <gensim.models.keyedvectors.Vocab at 0x1a359ea3c8>,\n",
       " 'raised': <gensim.models.keyedvectors.Vocab at 0x1a359ea438>,\n",
       " ...}"
      ]
     },
     "execution_count": 89,
     "metadata": {},
     "output_type": "execute_result"
    }
   ],
   "source": [
    "word2vec.vocab"
   ]
  },
  {
   "cell_type": "code",
   "execution_count": 90,
   "metadata": {
    "scrolled": true
   },
   "outputs": [
    {
     "name": "stdout",
     "output_type": "stream",
     "text": [
      "Null word embeddings: 4\n"
     ]
    }
   ],
   "source": [
    "embedding_matrix = np.zeros((nb_words, EMBEDDING_DIM))\n",
    "for i, word in enumerate(word2vec.vocab):\n",
    "        embedding_matrix[i] = word2vec.word_vec(word)\n",
    "print('Null word embeddings: %d' % np.sum(np.sum(embedding_matrix, axis=1) == 0))"
   ]
  },
  {
   "cell_type": "code",
   "execution_count": 97,
   "metadata": {},
   "outputs": [
    {
     "data": {
      "text/plain": [
       "'on'"
      ]
     },
     "execution_count": 97,
     "metadata": {},
     "output_type": "execute_result"
    }
   ],
   "source": [
    "list(word2vec.vocab.keys())[5]"
   ]
  },
  {
   "cell_type": "code",
   "execution_count": 98,
   "metadata": {
    "collapsed": true
   },
   "outputs": [
    {
     "data": {
      "text/plain": [
       "array([ 2.67333984e-02, -9.08203125e-02,  2.78320312e-02,  2.04101562e-01,\n",
       "        6.22558594e-03, -9.03320312e-02,  2.25830078e-02, -1.61132812e-01,\n",
       "        1.32812500e-01,  6.10351562e-02, -1.57470703e-02,  8.83789062e-02,\n",
       "        1.37939453e-02,  4.63867188e-02, -5.59082031e-02, -6.68945312e-02,\n",
       "        1.22680664e-02,  1.36718750e-01,  1.54296875e-01, -4.61425781e-02,\n",
       "       -3.93066406e-02, -1.54296875e-01, -1.65039062e-01,  1.07910156e-01,\n",
       "        3.32031250e-02, -5.10253906e-02,  3.71093750e-02,  1.01562500e-01,\n",
       "        1.10351562e-01,  2.05078125e-02,  6.77490234e-03,  1.18255615e-03,\n",
       "       -1.25122070e-02, -1.25000000e-01,  1.48315430e-02, -2.68554688e-02,\n",
       "       -2.14843750e-02,  1.50756836e-02,  1.38671875e-01,  4.85839844e-02,\n",
       "       -7.66601562e-02, -1.16699219e-01,  1.06933594e-01,  4.17480469e-02,\n",
       "        1.28173828e-02, -9.46044922e-03, -2.89306641e-02, -3.85742188e-02,\n",
       "        2.43164062e-01,  9.52148438e-03,  2.20947266e-02,  2.22656250e-01,\n",
       "        9.15527344e-03, -4.54101562e-02, -3.54003906e-02,  1.40625000e-01,\n",
       "       -1.84570312e-01,  7.76367188e-02,  4.15039062e-02, -8.49609375e-02,\n",
       "       -9.91210938e-02,  5.83496094e-02, -9.66796875e-02, -2.02148438e-01,\n",
       "       -1.40380859e-02, -2.36511230e-03,  1.47460938e-01,  2.00195312e-01,\n",
       "        5.95703125e-02,  1.54296875e-01,  1.34765625e-01,  5.27954102e-03,\n",
       "        1.25000000e-01,  8.54492188e-02, -2.77099609e-02, -5.81054688e-02,\n",
       "        1.83593750e-01,  7.87353516e-03, -1.53320312e-01,  1.24023438e-01,\n",
       "       -8.00781250e-02, -1.43554688e-01,  1.49414062e-01,  1.45874023e-02,\n",
       "        1.07910156e-01, -2.01171875e-01, -1.50390625e-01,  5.24902344e-02,\n",
       "        7.71484375e-02,  9.17968750e-02, -3.80859375e-02,  1.48437500e-01,\n",
       "        5.46875000e-02, -1.51367188e-01,  1.42822266e-02, -1.04980469e-01,\n",
       "        1.90429688e-02, -6.34765625e-02,  5.34667969e-02,  3.49121094e-02,\n",
       "        1.39648438e-01, -1.33789062e-01,  2.16796875e-01, -1.94335938e-01,\n",
       "       -5.83496094e-02, -1.34765625e-01, -2.65625000e-01, -1.04003906e-01,\n",
       "        3.54003906e-02, -2.15820312e-01,  8.25195312e-02,  4.51660156e-02,\n",
       "       -6.98242188e-02, -4.32128906e-02,  2.69775391e-02, -9.03320312e-02,\n",
       "        5.49316406e-03,  4.98046875e-02, -3.56445312e-02,  5.98144531e-02,\n",
       "       -1.49414062e-01, -2.20947266e-02, -3.32031250e-02,  1.75781250e-01,\n",
       "       -6.64062500e-02, -1.83105469e-02,  1.12915039e-02, -4.22363281e-02,\n",
       "       -7.71484375e-02,  1.74560547e-02, -1.04980469e-01, -1.04492188e-01,\n",
       "       -4.73632812e-02, -2.95410156e-02, -6.15234375e-02, -5.07812500e-02,\n",
       "       -2.56347656e-02, -9.52148438e-02, -8.10546875e-02, -1.01562500e-01,\n",
       "        2.02148438e-01,  1.18652344e-01, -2.82287598e-03, -6.03027344e-02,\n",
       "        2.24609375e-02,  1.30859375e-01,  8.05664062e-02, -1.54296875e-01,\n",
       "       -8.25195312e-02,  1.60156250e-01,  5.78613281e-02,  9.76562500e-02,\n",
       "       -2.09960938e-02, -4.51660156e-02, -7.32421875e-02,  4.36401367e-03,\n",
       "       -9.08203125e-02,  1.91650391e-02, -1.66015625e-02, -5.02929688e-02,\n",
       "        1.47094727e-02, -4.15039062e-03,  3.46679688e-02,  5.73730469e-02,\n",
       "        8.00781250e-02,  6.22558594e-03,  6.39648438e-02,  2.45361328e-02,\n",
       "        3.17382812e-02, -1.25000000e-01, -7.81250000e-02, -2.45361328e-02,\n",
       "       -7.22656250e-02, -8.64257812e-02, -7.71484375e-02,  4.34570312e-02,\n",
       "       -1.87873840e-04, -1.14135742e-02, -9.91210938e-02,  2.62451172e-02,\n",
       "        5.34667969e-02,  4.54101562e-02, -7.12890625e-02,  1.38671875e-01,\n",
       "        4.10156250e-02,  1.11694336e-02, -1.53198242e-02,  3.29589844e-02,\n",
       "        1.82617188e-01,  1.74560547e-02, -3.19824219e-02,  1.07910156e-01,\n",
       "        3.29589844e-02, -3.51562500e-02, -2.17773438e-01,  1.02050781e-01,\n",
       "       -2.92968750e-02, -9.46044922e-04, -7.14111328e-03, -2.63671875e-02,\n",
       "        6.17675781e-02, -1.69677734e-02, -2.17285156e-02, -1.19140625e-01,\n",
       "        9.09423828e-03,  1.03027344e-01, -3.00598145e-03,  1.49414062e-01,\n",
       "        1.05957031e-01, -4.02832031e-02, -1.84326172e-02,  3.58886719e-02,\n",
       "       -3.80859375e-02,  5.68847656e-02,  1.53198242e-02,  1.97753906e-02,\n",
       "        1.80664062e-01,  8.17871094e-03, -1.51367188e-01,  3.22265625e-02,\n",
       "        1.57226562e-01,  5.07812500e-02, -2.89306641e-02,  4.39453125e-02,\n",
       "       -5.85937500e-02,  3.09753418e-03, -1.26342773e-02,  1.61132812e-01,\n",
       "        1.05957031e-01, -3.39355469e-02,  1.81640625e-01, -4.46777344e-02,\n",
       "        3.41796875e-02, -3.78417969e-02, -8.85009766e-03, -3.68652344e-02,\n",
       "        7.86132812e-02,  2.70996094e-02,  4.61425781e-02,  6.88476562e-02,\n",
       "        5.05371094e-02, -1.74713135e-03, -1.36718750e-01, -1.53320312e-01,\n",
       "        9.86328125e-02, -1.61132812e-01,  6.62231445e-03, -8.59375000e-02,\n",
       "       -1.75781250e-02,  4.07714844e-02,  2.99072266e-02,  1.14135742e-02,\n",
       "       -2.02636719e-02, -6.44531250e-02,  1.74560547e-02, -1.28906250e-01,\n",
       "       -3.47137451e-04,  4.22363281e-02,  3.29589844e-03,  1.22558594e-01,\n",
       "       -9.57031250e-02,  9.22851562e-02,  1.04980469e-01, -1.24511719e-01,\n",
       "        3.58886719e-02,  1.45507812e-01, -1.05468750e-01,  2.29492188e-02,\n",
       "       -8.36181641e-03,  4.63867188e-03,  2.19726562e-01, -4.95605469e-02,\n",
       "        2.38281250e-01, -5.83496094e-02,  4.83398438e-02,  6.05468750e-02,\n",
       "       -3.73535156e-02, -1.77734375e-01,  4.49218750e-02, -4.22363281e-02,\n",
       "        8.25195312e-02,  1.10351562e-01, -1.09375000e-01,  9.42382812e-02,\n",
       "       -7.22656250e-02,  4.90722656e-02, -1.58203125e-01,  7.81250000e-02,\n",
       "        2.95410156e-02, -1.21093750e-01,  2.68554688e-02, -2.79541016e-02,\n",
       "        3.08837891e-02,  4.05273438e-02, -1.30859375e-01,  8.30078125e-02,\n",
       "        1.57470703e-02, -1.16699219e-01, -2.94189453e-02, -7.08007812e-02])"
      ]
     },
     "execution_count": 98,
     "metadata": {},
     "output_type": "execute_result"
    }
   ],
   "source": [
    "embedding_matrix[5]"
   ]
  },
  {
   "cell_type": "code",
   "execution_count": 99,
   "metadata": {},
   "outputs": [],
   "source": [
    "########################################\n",
    "## define the model structure\n",
    "########################################\n",
    "embedding_layer = Embedding(nb_words,\n",
    "        EMBEDDING_DIM,\n",
    "        weights=[embedding_matrix],\n",
    "        input_length=MAX_SEQUENCE_LENGTH,\n",
    "        trainable=False)"
   ]
  },
  {
   "cell_type": "markdown",
   "metadata": {},
   "source": [
    "##### Input to our network"
   ]
  },
  {
   "cell_type": "code",
   "execution_count": null,
   "metadata": {},
   "outputs": [],
   "source": [
    "sequence_input = Input(shape=(MAX_SEQUENCE_LENGTH,), dtype='int32')\n",
    "embedded_sequences = embedding_layer(sequence_input)"
   ]
  }
 ],
 "metadata": {
  "kernelspec": {
   "display_name": "Python 3",
   "language": "python",
   "name": "python3"
  },
  "language_info": {
   "codemirror_mode": {
    "name": "ipython",
    "version": 3
   },
   "file_extension": ".py",
   "mimetype": "text/x-python",
   "name": "python",
   "nbconvert_exporter": "python",
   "pygments_lexer": "ipython3",
   "version": "3.7.3"
  }
 },
 "nbformat": 4,
 "nbformat_minor": 2
}
